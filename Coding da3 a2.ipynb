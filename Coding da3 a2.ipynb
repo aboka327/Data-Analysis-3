{
 "cells": [
  {
   "cell_type": "markdown",
   "id": "d4e01d2a-952d-4de4-9d27-5faace3d4315",
   "metadata": {},
   "source": [
    "# <center><font color='magenta'>**DA3 Assignment 2**</font></center>\n",
    "### <center>Central European University, 2024-2025</center>\n",
    "### <center>Probabilities & Classification </center>\n",
    "### <center>Abylaikhan and Zheng Ying </center>"
   ]
  },
  {
   "cell_type": "code",
   "execution_count": 2,
   "id": "3f12a7c2-3ad1-4bcc-a8ad-ee17dd37380d",
   "metadata": {},
   "outputs": [],
   "source": [
    "import os\n",
    "import datetime\n",
    "import pandas as pd\n",
    "import numpy as np\n",
    "import statsmodels.formula.api as smf\n",
    "import sys\n",
    "import patsy\n",
    "import statsmodels.api as sm\n",
    "from sklearn.linear_model import LinearRegression, LogisticRegression, LogisticRegressionCV\n",
    "from sklearn.model_selection import train_test_split, GridSearchCV, KFold\n",
    "import sklearn.metrics as metrics\n",
    "from sklearn.metrics import brier_score_loss, roc_curve, auc, confusion_matrix, roc_auc_score, mean_squared_error\n",
    "from sklearn.ensemble import RandomForestClassifier\n",
    "import seaborn as sns\n",
    "import matplotlib.pyplot as plt\n",
    "from sklearn.model_selection import train_test_split\n",
    "from sklearn.preprocessing import StandardScaler\n",
    "\n",
    "import warnings\n",
    "warnings.filterwarnings('ignore')"
   ]
  },
  {
   "cell_type": "code",
   "execution_count": 3,
   "id": "6e8f4455-cfc3-4f29-a583-5c7fa029b778",
   "metadata": {},
   "outputs": [],
   "source": [
    "# Current script folder\n",
    "path = os.getcwd()\n",
    "data_dir = os.path.join(path, \"da_data_repo\")"
   ]
  },
  {
   "cell_type": "code",
   "execution_count": 4,
   "id": "737ce01e-779a-4286-8232-5c72a2c80bc7",
   "metadata": {},
   "outputs": [],
   "source": [
    "# location folders\n",
    "data_in = os.path.join(data_dir, \"bisnode-firms/clean/\")\n",
    "data_out = os.path.join(data_dir, \"bisnode-firms/\")\n",
    "output = os.path.join(data_out, \"output/\")"
   ]
  },
  {
   "cell_type": "code",
   "execution_count": 5,
   "id": "b8368c76-d740-450d-891f-0a2db876a70e",
   "metadata": {},
   "outputs": [],
   "source": [
    "def regression_results(y_true, y_pred):\n",
    "\n",
    "    # Regression metrics\n",
    "    explained_variance=metrics.explained_variance_score(y_true, y_pred)\n",
    "    mean_absolute_error=metrics.mean_absolute_error(y_true, y_pred) \n",
    "    mse=metrics.mean_squared_error(y_true, y_pred) \n",
    "    median_absolute_error=metrics.median_absolute_error(y_true, y_pred)\n",
    "    r2=metrics.r2_score(y_true, y_pred)\n",
    "\n",
    "    print('explained_variance: ', round(explained_variance,4))    \n",
    "    print('r2: ', round(r2,4))\n",
    "    print('MAE: ', round(mean_absolute_error,4))\n",
    "    print('MSE: ', round(mse,4))\n",
    "    print('RMSE: ', round(np.sqrt(mse),4))\n",
    "    \n",
    "def create_coef_matrix(X, model):\n",
    "    coef_matrix = pd.concat(\n",
    "        [pd.DataFrame(X.columns),pd.DataFrame(model.coef_.flatten())], axis = 1\n",
    "    )\n",
    "    coef_matrix.columns = ['variable', 'coefficient']\n",
    "    coef_matrix.iloc[-1] = ['Intercept', model.intercept_.flatten()[0]]\n",
    "    return coef_matrix\n",
    "\n",
    "def cv_summary(lambdas, C_values, model):\n",
    "    d = {'lambdas': lambdas, \n",
    "         'C_values': C_values, \n",
    "         'mean_cv_score': model.scores_[1].mean(axis = 0)}\n",
    "    return(pd.DataFrame(data=d))\n",
    "\n",
    "\"\"\"def create_roc_plot(y_true, y_pred):\n",
    "    fpr, tpr, thresholds = roc_curve(y_true, y_pred)\n",
    "    all_coords = pd.DataFrame({\n",
    "        'fpr': fpr,\n",
    "        'tpr': tpr,\n",
    "        'thresholds': thresholds\n",
    "    })\n",
    "    \n",
    "    plot = ggplot(all_coords, aes(x = 'fpr', y = 'tpr')) \\\n",
    "        + geom_line(color=color[0], size = 0.7) \\\n",
    "        + geom_area(position = 'identity', fill = 'mediumaquamarine', alpha = 0.3) \\\n",
    "        + xlab(\"False Positive Rate (1-Specifity)\") \\\n",
    "        + ylab(\"True Positive Rate (Sensitivity)\") \\\n",
    "        + geom_abline(intercept = 0, slope = 1,  linetype = \"dotted\", color = \"black\") \\\n",
    "        + scale_y_continuous(limits = (0, 1), breaks = seq(0, 1, .1), expand = (0, 0.01)) \\\n",
    "        + scale_x_continuous(limits = (0, 1), breaks = seq(0, 1, .1), expand = (0.01, 0)) \\\n",
    "        + theme_bw()\n",
    "    return(plot)\n",
    "\"\"\"\n",
    "\n",
    "def create_roc_plot(y_true, y_pred):\n",
    "    # Calculate ROC curve\n",
    "    fpr, tpr, thresholds = roc_curve(y_true, y_pred)\n",
    "    \n",
    "    # Create figure and axis\n",
    "    fig, ax = plt.subplots(figsize=(6, 6))\n",
    "    \n",
    "    # Plot ROC curve line\n",
    "    ax.plot(fpr, tpr, color='k', linewidth=0.7)\n",
    "    \n",
    "    # Fill area under curve\n",
    "    ax.fill_between(fpr, tpr, alpha=0.3, color='white')\n",
    "    \n",
    "    # Add diagonal dotted line\n",
    "    ax.plot([0, 1], [0, 1], linestyle=':', color='black')\n",
    "    \n",
    "    # Set axis labels\n",
    "    ax.set_xlabel('False Positive Rate (1-Specificity)')\n",
    "    ax.set_ylabel('True Positive Rate (Sensitivity)')\n",
    "    \n",
    "    # Set axis limits and ticks\n",
    "    ax.set_xlim(0, 1)\n",
    "    ax.set_ylim(0, 1)\n",
    "    ax.set_xticks(np.arange(0, 1.1, 0.1))\n",
    "    ax.set_yticks(np.arange(0, 1.1, 0.1))\n",
    "    \n",
    "    # Style similar to theme_bw()\n",
    "    ax.grid(True, linestyle='-', alpha=0.2)\n",
    "    ax.set_facecolor('white')\n",
    "    for spine in ax.spines.values():\n",
    "        spine.set_color('black')\n",
    "    \n",
    "    # Adjust layout\n",
    "    plt.tight_layout()\n",
    "    \n",
    "    return fig, ax\n",
    "\n",
    "\n",
    "def sigmoid_array(x):\n",
    "    return(1 / (1 + np.exp(-x)))\n",
    "\n",
    "def generate_fold_prediction(model, X, fold, param_index):\n",
    "    fold_coef = model.coefs_paths_[1][fold,param_index,:]\n",
    "    return(sigmoid_array(np.dot(X, np.transpose(fold_coef)[:-1]) +  np.transpose(fold_coef)[-1]))\n",
    "\n",
    "\"\"\"def create_loss_plot(all_coords, optimal_threshold, curr_exp_loss):\n",
    "    all_coords_copy = all_coords.copy()\n",
    "    all_coords_copy['loss'] = (all_coords_copy.false_pos*FP + all_coords_copy.false_neg*FN)/all_coords_copy.n\n",
    "    \n",
    "    t = optimal_threshold\n",
    "    l = curr_exp_loss\n",
    "    \n",
    "    plot = ggplot(all_coords_copy, aes(x = 'thresholds', y = 'loss')) + \\\n",
    "        geom_line(color=color[0], size=0.7) + \\\n",
    "        scale_x_continuous(breaks = seq(0, 1.1, by = 0.1)) + \\\n",
    "        coord_cartesian(xlim=(0,1))+ \\\n",
    "        geom_vline(xintercept = t , color = color[0] ) + \\\n",
    "        annotate(geom = \"text\", x = t - 0.01, y= max(all_coords_copy.loss) - 0.4,\n",
    "                 label=\"best threshold: \" + str(round(t,2)),\n",
    "                 colour=color[1], angle=90, size = 7) +\\\n",
    "        annotate(geom = \"text\", x = t + 0.06, y= l,\\\n",
    "                 label= str(round(l, 2)), size = 7) +\\\n",
    "        theme_bw()\n",
    "    return(plot)\"\"\"\n",
    "\n",
    "def create_loss_plot(all_coords, optimal_threshold, curr_exp_loss):\n",
    "    # Create copy and calculate loss\n",
    "    all_coords_copy = all_coords.copy()\n",
    "    all_coords_copy['loss'] = (all_coords_copy.false_pos*FP + all_coords_copy.false_neg*FN)/all_coords_copy.n\n",
    "    \n",
    "    t = optimal_threshold\n",
    "    l = curr_exp_loss\n",
    "\n",
    "    # Create figure and axis\n",
    "    fig, ax = plt.subplots(figsize=(6, 5))\n",
    "\n",
    "    # Plot loss line\n",
    "    ax.plot(all_coords_copy['thresholds'], all_coords_copy['loss'], \n",
    "            color= 'k', linewidth=0.7)\n",
    "\n",
    "    # Add vertical line at optimal threshold\n",
    "    ax.axvline(x=t, color = 'k')\n",
    "\n",
    "    # Add annotations\n",
    "    ax.text(t - 0.04, max(all_coords_copy.loss) - 0.5,\n",
    "            f\"best threshold: {t:.2f}\", \n",
    "            color = 'k', \n",
    "            rotation=90, \n",
    "            fontsize = 9)\n",
    "    \n",
    "    ax.text(t + 0.06, l,\n",
    "            f\"{l:.2f}\",\n",
    "            fontsize = 9)\n",
    "\n",
    "    # Set x-axis ticks and limits\n",
    "    ax.set_xticks(np.arange(0, 1.1, 0.1))\n",
    "    ax.set_xlim(0, 1)\n",
    "\n",
    "    # Style similar to theme_bw()\n",
    "    ax.grid(True, linestyle='-', alpha=0.2)\n",
    "    ax.set_facecolor('white')\n",
    "    ax.set_xlabel('threshold')\n",
    "    ax.set_ylabel('loss')\n",
    "    for spine in ax.spines.values():\n",
    "        spine.set_color('black')\n",
    "\n",
    "    # Adjust layout\n",
    "    plt.tight_layout()\n",
    "\n",
    "    return fig, ax\n",
    "\n",
    "\n",
    "\n",
    "\"\"\"def create_roc_plot_with_optimal(all_coords, optimal_threshold):\n",
    "    all_coords_copy = all_coords.copy()\n",
    "    all_coords_copy['sp'] = all_coords_copy.true_neg/all_coords_copy.neg\n",
    "    all_coords_copy['se'] = all_coords_copy.true_pos/all_coords_copy.pos\n",
    "    \n",
    "    best_coords = all_coords_copy[all_coords_copy.thresholds == optimal_threshold]\n",
    "    sp = best_coords.sp.values[0]\n",
    "    se = best_coords.se.values[0]\n",
    "\n",
    "    plot = ggplot(all_coords_copy, aes(x = 'sp', y = 'se')) +\\\n",
    "        geom_line(color=color[0], size=0.7) +\\\n",
    "        scale_y_continuous(breaks = seq(0, 1.1, by = 0.1)) +\\\n",
    "        scale_x_reverse(breaks = seq(0, 1.1, by = 0.1)) +\\\n",
    "        geom_point(data = pd.DataFrame({'sp': [sp], 'se': [se]})) +\\\n",
    "        annotate(geom = \"text\", x = sp, y = se + 0.03,\n",
    "                 label = str(round(sp, 2)) + ', ' + str(round(se, 2)), size = 7) +\\\n",
    "        theme_bw()\n",
    "    return(plot)\n",
    "\"\"\"\n",
    "def create_roc_plot_with_optimal(all_coords, optimal_threshold):\n",
    "    # Create copy and calculate metrics\n",
    "    all_coords_copy = all_coords.copy()\n",
    "    all_coords_copy['sp'] = all_coords_copy.true_neg/all_coords_copy.neg\n",
    "    all_coords_copy['se'] = all_coords_copy.true_pos/all_coords_copy.pos\n",
    "    \n",
    "    # Get optimal point\n",
    "    best_coords = all_coords_copy[all_coords_copy.thresholds == optimal_threshold]\n",
    "    sp = best_coords.sp.values[0]\n",
    "    se = best_coords.se.values[0]\n",
    "    \n",
    "    # Create figure and axis\n",
    "    fig, ax = plt.subplots(figsize=(6, 6))\n",
    "    \n",
    "    # Plot ROC curve\n",
    "    ax.plot(all_coords_copy['sp'], all_coords_copy['se'],\n",
    "            color='k', linewidth=0.9)\n",
    "    \n",
    "    # Add optimal point\n",
    "    ax.scatter([sp], [se], color='k', s = 100)\n",
    "    \n",
    "    # Add text annotation\n",
    "    ax.text(sp, se + 0.03,\n",
    "            f\"{sp:.2f}, {se:.2f}\",\n",
    "            fontsize = 9,\n",
    "            ha='center')\n",
    "    ax.text(sp - 0.02, se - 0.18,\n",
    "            'specificity (TNR) \\n& sensitivity (TPR) \\nat the best threshold',\n",
    "            fontsize = 9,\n",
    "            ha='center'\n",
    "           )\n",
    "    \n",
    "    # Set axis ticks and limits\n",
    "    ax.set_yticks(np.arange(0, 1.1, 0.1))\n",
    "    ax.set_xticks(np.arange(0, 1.1, 0.1))\n",
    "    ax.set_xlabel('specificity')\n",
    "    ax.set_ylabel('sensitivity')\n",
    "    \n",
    "    # Reverse x-axis\n",
    "    ax.set_xlim(1, 0)\n",
    "    \n",
    "    # Style similar to theme_bw()\n",
    "    ax.grid(True, linestyle='-', alpha=0.2)\n",
    "    ax.set_facecolor('white')\n",
    "    for spine in ax.spines.values():\n",
    "        spine.set_color('black')\n",
    "    \n",
    "    # Adjust layout\n",
    "    plt.tight_layout()\n",
    "    plt.show()\n",
    "    return fig, ax"
   ]
  },
  {
   "cell_type": "markdown",
   "id": "664235ac-3a75-4b96-a7e5-5d3408dd3992",
   "metadata": {},
   "source": [
    "## Data"
   ]
  },
  {
   "cell_type": "code",
   "execution_count": 7,
   "id": "804db203-9387-42ac-ac0a-cf0449248829",
   "metadata": {},
   "outputs": [
    {
     "name": "stdout",
     "output_type": "stream",
     "text": [
      "Dataset shape: (287829, 48)\n"
     ]
    }
   ],
   "source": [
    "# Load the compressed CSV file into a DataFrame\n",
    "data = pd.read_csv(\"compressed_data.csv.gz\", compression=\"gzip\")\n",
    "\n",
    "# Check dataset size\n",
    "print(f\"Dataset shape: {data.shape}\")"
   ]
  },
  {
   "cell_type": "code",
   "execution_count": 8,
   "id": "e4eb7067-36d4-41cd-9fa0-8e47cb9978c0",
   "metadata": {},
   "outputs": [
    {
     "data": {
      "text/html": [
       "<div>\n",
       "<style scoped>\n",
       "    .dataframe tbody tr th:only-of-type {\n",
       "        vertical-align: middle;\n",
       "    }\n",
       "\n",
       "    .dataframe tbody tr th {\n",
       "        vertical-align: top;\n",
       "    }\n",
       "\n",
       "    .dataframe thead th {\n",
       "        text-align: right;\n",
       "    }\n",
       "</style>\n",
       "<table border=\"1\" class=\"dataframe\">\n",
       "  <thead>\n",
       "    <tr style=\"text-align: right;\">\n",
       "      <th></th>\n",
       "      <th>comp_id</th>\n",
       "      <th>begin</th>\n",
       "      <th>end</th>\n",
       "      <th>COGS</th>\n",
       "      <th>amort</th>\n",
       "      <th>curr_assets</th>\n",
       "      <th>curr_liab</th>\n",
       "      <th>extra_exp</th>\n",
       "      <th>extra_inc</th>\n",
       "      <th>extra_profit_loss</th>\n",
       "      <th>...</th>\n",
       "      <th>gender</th>\n",
       "      <th>origin</th>\n",
       "      <th>nace_main</th>\n",
       "      <th>ind2</th>\n",
       "      <th>ind</th>\n",
       "      <th>urban_m</th>\n",
       "      <th>region_m</th>\n",
       "      <th>founded_date</th>\n",
       "      <th>exit_date</th>\n",
       "      <th>labor_avg</th>\n",
       "    </tr>\n",
       "  </thead>\n",
       "  <tbody>\n",
       "    <tr>\n",
       "      <th>5</th>\n",
       "      <td>1001034.0</td>\n",
       "      <td>2010-01-01</td>\n",
       "      <td>2010-12-31</td>\n",
       "      <td>NaN</td>\n",
       "      <td>177.777771</td>\n",
       "      <td>2096.296387</td>\n",
       "      <td>19629.628906</td>\n",
       "      <td>0.0</td>\n",
       "      <td>0.0</td>\n",
       "      <td>0.0</td>\n",
       "      <td>...</td>\n",
       "      <td>mix</td>\n",
       "      <td>Domestic</td>\n",
       "      <td>5630.0</td>\n",
       "      <td>56.0</td>\n",
       "      <td>3.0</td>\n",
       "      <td>1</td>\n",
       "      <td>Central</td>\n",
       "      <td>1990-11-19</td>\n",
       "      <td>NaN</td>\n",
       "      <td>0.083333</td>\n",
       "    </tr>\n",
       "    <tr>\n",
       "      <th>6</th>\n",
       "      <td>1001034.0</td>\n",
       "      <td>2011-01-01</td>\n",
       "      <td>2011-12-31</td>\n",
       "      <td>NaN</td>\n",
       "      <td>155.555557</td>\n",
       "      <td>3607.407471</td>\n",
       "      <td>22555.554688</td>\n",
       "      <td>0.0</td>\n",
       "      <td>0.0</td>\n",
       "      <td>0.0</td>\n",
       "      <td>...</td>\n",
       "      <td>mix</td>\n",
       "      <td>Domestic</td>\n",
       "      <td>5630.0</td>\n",
       "      <td>56.0</td>\n",
       "      <td>3.0</td>\n",
       "      <td>1</td>\n",
       "      <td>Central</td>\n",
       "      <td>1990-11-19</td>\n",
       "      <td>NaN</td>\n",
       "      <td>0.083333</td>\n",
       "    </tr>\n",
       "    <tr>\n",
       "      <th>7</th>\n",
       "      <td>1001034.0</td>\n",
       "      <td>2012-01-01</td>\n",
       "      <td>2012-12-31</td>\n",
       "      <td>NaN</td>\n",
       "      <td>140.740738</td>\n",
       "      <td>148.148148</td>\n",
       "      <td>21429.628906</td>\n",
       "      <td>0.0</td>\n",
       "      <td>0.0</td>\n",
       "      <td>0.0</td>\n",
       "      <td>...</td>\n",
       "      <td>mix</td>\n",
       "      <td>Domestic</td>\n",
       "      <td>5630.0</td>\n",
       "      <td>56.0</td>\n",
       "      <td>3.0</td>\n",
       "      <td>1</td>\n",
       "      <td>Central</td>\n",
       "      <td>1990-11-19</td>\n",
       "      <td>NaN</td>\n",
       "      <td>0.083333</td>\n",
       "    </tr>\n",
       "    <tr>\n",
       "      <th>8</th>\n",
       "      <td>1001034.0</td>\n",
       "      <td>2013-01-01</td>\n",
       "      <td>2013-12-31</td>\n",
       "      <td>NaN</td>\n",
       "      <td>140.740738</td>\n",
       "      <td>140.740738</td>\n",
       "      <td>21851.851562</td>\n",
       "      <td>0.0</td>\n",
       "      <td>0.0</td>\n",
       "      <td>0.0</td>\n",
       "      <td>...</td>\n",
       "      <td>mix</td>\n",
       "      <td>Domestic</td>\n",
       "      <td>5630.0</td>\n",
       "      <td>56.0</td>\n",
       "      <td>3.0</td>\n",
       "      <td>1</td>\n",
       "      <td>Central</td>\n",
       "      <td>1990-11-19</td>\n",
       "      <td>NaN</td>\n",
       "      <td>NaN</td>\n",
       "    </tr>\n",
       "    <tr>\n",
       "      <th>9</th>\n",
       "      <td>1001034.0</td>\n",
       "      <td>2014-01-01</td>\n",
       "      <td>2014-12-31</td>\n",
       "      <td>NaN</td>\n",
       "      <td>29.629629</td>\n",
       "      <td>144.444443</td>\n",
       "      <td>22340.740234</td>\n",
       "      <td>0.0</td>\n",
       "      <td>0.0</td>\n",
       "      <td>0.0</td>\n",
       "      <td>...</td>\n",
       "      <td>mix</td>\n",
       "      <td>Domestic</td>\n",
       "      <td>5630.0</td>\n",
       "      <td>56.0</td>\n",
       "      <td>3.0</td>\n",
       "      <td>1</td>\n",
       "      <td>Central</td>\n",
       "      <td>1990-11-19</td>\n",
       "      <td>NaN</td>\n",
       "      <td>NaN</td>\n",
       "    </tr>\n",
       "  </tbody>\n",
       "</table>\n",
       "<p>5 rows × 48 columns</p>\n",
       "</div>"
      ],
      "text/plain": [
       "     comp_id       begin         end  COGS       amort  curr_assets  \\\n",
       "5  1001034.0  2010-01-01  2010-12-31   NaN  177.777771  2096.296387   \n",
       "6  1001034.0  2011-01-01  2011-12-31   NaN  155.555557  3607.407471   \n",
       "7  1001034.0  2012-01-01  2012-12-31   NaN  140.740738   148.148148   \n",
       "8  1001034.0  2013-01-01  2013-12-31   NaN  140.740738   140.740738   \n",
       "9  1001034.0  2014-01-01  2014-12-31   NaN   29.629629   144.444443   \n",
       "\n",
       "      curr_liab  extra_exp  extra_inc  extra_profit_loss  ...  gender  \\\n",
       "5  19629.628906        0.0        0.0                0.0  ...     mix   \n",
       "6  22555.554688        0.0        0.0                0.0  ...     mix   \n",
       "7  21429.628906        0.0        0.0                0.0  ...     mix   \n",
       "8  21851.851562        0.0        0.0                0.0  ...     mix   \n",
       "9  22340.740234        0.0        0.0                0.0  ...     mix   \n",
       "\n",
       "     origin  nace_main  ind2  ind  urban_m  region_m  founded_date  exit_date  \\\n",
       "5  Domestic     5630.0  56.0  3.0        1   Central    1990-11-19        NaN   \n",
       "6  Domestic     5630.0  56.0  3.0        1   Central    1990-11-19        NaN   \n",
       "7  Domestic     5630.0  56.0  3.0        1   Central    1990-11-19        NaN   \n",
       "8  Domestic     5630.0  56.0  3.0        1   Central    1990-11-19        NaN   \n",
       "9  Domestic     5630.0  56.0  3.0        1   Central    1990-11-19        NaN   \n",
       "\n",
       "   labor_avg  \n",
       "5   0.083333  \n",
       "6   0.083333  \n",
       "7   0.083333  \n",
       "8        NaN  \n",
       "9        NaN  \n",
       "\n",
       "[5 rows x 48 columns]"
      ]
     },
     "execution_count": 8,
     "metadata": {},
     "output_type": "execute_result"
    }
   ],
   "source": [
    "data = data[(data['year'] >= 2010) & (data['year'] <= 2015)]\n",
    "data.head()"
   ]
  },
  {
   "cell_type": "code",
   "execution_count": 9,
   "id": "04c9d93b-b51c-4183-9d9d-b0620bc8bf6e",
   "metadata": {},
   "outputs": [
    {
     "data": {
      "text/plain": [
       "COGS                 158556\n",
       "amort                  4117\n",
       "curr_assets              57\n",
       "curr_liab                57\n",
       "extra_exp              3751\n",
       "extra_inc              3751\n",
       "extra_profit_loss      3755\n",
       "finished_prod        158855\n",
       "fixed_assets             57\n",
       "inc_bef_tax            3742\n",
       "intang_assets            57\n",
       "inventories              57\n",
       "liq_assets               57\n",
       "material_exp           4117\n",
       "net_dom_sales        158556\n",
       "net_exp_sales        158556\n",
       "personnel_exp          4117\n",
       "profit_loss_year         67\n",
       "sales                  3742\n",
       "share_eq                 57\n",
       "subscribed_cap           57\n",
       "tang_assets              57\n",
       "wages                158707\n",
       "D                    167606\n",
       "founded_year          18409\n",
       "exit_year            150648\n",
       "ceo_count             18403\n",
       "foreign               18403\n",
       "female                18403\n",
       "birth_year            43221\n",
       "inoffice_days         18403\n",
       "gender                18403\n",
       "origin                18403\n",
       "nace_main                59\n",
       "ind2                     59\n",
       "ind                    4966\n",
       "region_m                459\n",
       "founded_date             11\n",
       "exit_date            147067\n",
       "labor_avg             53346\n",
       "dtype: int64"
      ]
     },
     "execution_count": 9,
     "metadata": {},
     "output_type": "execute_result"
    }
   ],
   "source": [
    "# Check for missing values in each column\n",
    "missing_values = data.isnull().sum()\n",
    "missing_values = missing_values[missing_values > 0]\n",
    "missing_values"
   ]
  },
  {
   "cell_type": "code",
   "execution_count": 10,
   "id": "dd760d31-e769-4a7c-b8fe-08b14d5c1635",
   "metadata": {},
   "outputs": [],
   "source": [
    "# drop variables with many NAs\n",
    "data = data.drop(\n",
    "    columns=[\"COGS\", \"finished_prod\", \"net_dom_sales\", \"net_exp_sales\", \"wages\"]\n",
    ")"
   ]
  },
  {
   "cell_type": "markdown",
   "id": "59bac5dc-ba8d-4c4c-be8c-fe92c32e0830",
   "metadata": {},
   "source": [
    "# Label engineering"
   ]
  },
  {
   "cell_type": "code",
   "execution_count": 12,
   "id": "98193216-b70b-4a05-9c01-90f9304777d1",
   "metadata": {},
   "outputs": [],
   "source": [
    "# add all missing year and comp_id combinations -\n",
    "# originally missing combinations will have NAs in all other columns\n",
    "data = (\n",
    "    data.set_index([\"year\", \"comp_id\"])\n",
    "    .unstack(fill_value=\"toReplace\")\n",
    "    .stack()\n",
    "    .reset_index()\n",
    ")\n",
    "data = data.replace(\"toReplace\", np.nan)  # only way I could define it as NaN"
   ]
  },
  {
   "cell_type": "code",
   "execution_count": 13,
   "id": "82de3f7d-9f81-4808-9f99-ac225c03dfb1",
   "metadata": {},
   "outputs": [],
   "source": [
    "# generate status_alive; if sales larger than zero and not-NA, then firm is alive\n",
    "data[\"status_alive\"] = (data[\"sales\"] > 0 & (False == data[\"sales\"].isna())).astype(int)\n",
    "\n",
    "# defaults in two years if there are sales in this year but no sales two years later\n",
    "# Status_in_two_years: data.groupby('comp_id')['status_alive'].shift(-2)\n",
    "data[\"default\"] = (\n",
    "    (data[\"status_alive\"] == 1)\n",
    "    & (data.groupby(\"comp_id\")[\"status_alive\"].shift(-2) == 0)\n",
    ").astype(int)"
   ]
  },
  {
   "cell_type": "code",
   "execution_count": 14,
   "id": "f6b8bd66-b444-43b9-9577-4b95d7c39a23",
   "metadata": {},
   "outputs": [
    {
     "data": {
      "text/plain": [
       "count    236250.000000\n",
       "mean          0.082294\n",
       "std           0.274813\n",
       "min           0.000000\n",
       "25%           0.000000\n",
       "50%           0.000000\n",
       "75%           0.000000\n",
       "max           1.000000\n",
       "Name: default, dtype: float64"
      ]
     },
     "execution_count": 14,
     "metadata": {},
     "output_type": "execute_result"
    }
   ],
   "source": [
    "data[\"default\"].describe()"
   ]
  },
  {
   "cell_type": "code",
   "execution_count": 15,
   "id": "3a9ab7d5-6c60-4d99-adfd-96b72897e2d2",
   "metadata": {},
   "outputs": [
    {
     "data": {
      "text/plain": [
       "count    1.638640e+05\n",
       "mean     4.662059e+05\n",
       "std      3.789100e+06\n",
       "min     -2.553889e+05\n",
       "25%      3.092593e+03\n",
       "50%      2.697037e+04\n",
       "75%      1.060620e+05\n",
       "max      1.110294e+08\n",
       "Name: sales, dtype: float64"
      ]
     },
     "execution_count": 15,
     "metadata": {},
     "output_type": "execute_result"
    }
   ],
   "source": [
    "data[\"sales\"].describe()"
   ]
  },
  {
   "cell_type": "code",
   "execution_count": 16,
   "id": "8ff50718-0e77-45a3-b81f-a84590ca6a00",
   "metadata": {},
   "outputs": [],
   "source": [
    "data[\"sales\"] = np.where(\n",
    "    data[\"sales\"] < 0, 1, data[\"sales\"]\n",
    ")  # has to be outside of assin()\n",
    "data = data.assign(\n",
    "    ln_sales=np.where(\n",
    "        data[\"sales\"] > 0,\n",
    "        np.log(data[\"sales\"]),\n",
    "        (np.where(data[\"sales\"].isna(), np.nan, 0)),\n",
    "    ),  # NaN remain NaN\n",
    "    sales_mil=data[\"sales\"] / 1000000,\n",
    "    sales_mil_log=np.where(\n",
    "        data[\"sales\"] > 0,\n",
    "        np.log(data[\"sales\"] / 1000000),\n",
    "        (np.where(data[\"sales\"].isna(), np.nan, 0)),\n",
    "    ),\n",
    ")\n"
   ]
  },
  {
   "cell_type": "code",
   "execution_count": 17,
   "id": "36dc73bd-69d7-422f-9f94-57501d66e3cc",
   "metadata": {},
   "outputs": [],
   "source": [
    "data[\"d1_sales_mil_log\"] = data[\"sales_mil_log\"] - data.groupby(\"comp_id\")[\n",
    "    \"sales_mil_log\"\n",
    "].shift(1)"
   ]
  },
  {
   "cell_type": "code",
   "execution_count": 18,
   "id": "951cceba-6bd6-4ad0-8415-69fac9f969af",
   "metadata": {},
   "outputs": [],
   "source": [
    "# replace w 0 for new firms + add dummy to capture it\n",
    "data[\"age\"] = np.where(\n",
    "    data[\"year\"] - data[\"founded_year\"] < 0, 0, data[\"year\"] - data[\"founded_year\"]\n",
    ")\n",
    "data[\"new\"] = np.where(\n",
    "    ((data[\"age\"] <= 1) | (data[\"balsheet_notfullyear\"] == 1)),\n",
    "    1,\n",
    "    (np.where(data[\"age\"].isna(), np.nan, 0)),\n",
    ")\n",
    "data[\"d1_sales_mil_log\"] = np.where(\n",
    "    data[\"new\"] == 1, 0, np.where(data[\"new\"].isna(), np.nan, data[\"d1_sales_mil_log\"])\n",
    ")\n",
    "data[\"new\"] = np.where(data[\"d1_sales_mil_log\"].isna(), 1, data[\"new\"])\n",
    "data[\"d1_sales_mil_log\"] = np.where(\n",
    "    data[\"d1_sales_mil_log\"].isna(), 0, data[\"d1_sales_mil_log\"]\n",
    ")"
   ]
  },
  {
   "cell_type": "code",
   "execution_count": 19,
   "id": "1ccf7ce8-d8a9-421a-b0d2-62e437008b47",
   "metadata": {},
   "outputs": [
    {
     "data": {
      "text/plain": [
       "count    236250.000000\n",
       "mean          0.563319\n",
       "std           0.495976\n",
       "min           0.000000\n",
       "25%           0.000000\n",
       "50%           1.000000\n",
       "75%           1.000000\n",
       "max           1.000000\n",
       "Name: new, dtype: float64"
      ]
     },
     "execution_count": 19,
     "metadata": {},
     "output_type": "execute_result"
    }
   ],
   "source": [
    "data[\"new\"].describe()"
   ]
  },
  {
   "cell_type": "markdown",
   "id": "30ad4675-4fd9-4d66-b78f-315109e71ae4",
   "metadata": {},
   "source": [
    "### Defining Target Fast Growth"
   ]
  },
  {
   "cell_type": "code",
   "execution_count": 21,
   "id": "21f38c23-e0fc-48f9-b3bf-566c7b02185b",
   "metadata": {},
   "outputs": [
    {
     "name": "stdout",
     "output_type": "stream",
     "text": [
      "          comp_id  year  profit_loss_year  profit_growth  fast_growth\n",
      "39375   1001034.0  2011      -1570.370361      -0.791953            0\n",
      "78750   1001034.0  2012      -2474.073975       0.575472            1\n",
      "118125  1001034.0  2013       -633.333313      -0.744012            0\n",
      "157500  1001034.0  2014       -448.148163      -0.292398            0\n",
      "196875  1001034.0  2015       -555.555542       0.239669            0\n",
      "39376   1001541.0  2011       -818.518494       2.810345            1\n",
      "78751   1001541.0  2012      -7722.222168       8.434389            1\n",
      "118126  1001541.0  2013        874.074097      -1.113189            0\n",
      "157501  1001541.0  2014         25.925926      -0.970339            0\n",
      "196876  1001541.0  2015        233.333328       8.000000            1\n",
      "39377   1002029.0  2011          0.000000      -1.000000            0\n",
      "118127  1002029.0  2013      11777.777344       0.211428            0\n",
      "157502  1002029.0  2014      36455.554688       2.095283            1\n",
      "196877  1002029.0  2015       1096.296265      -0.969928            0\n",
      "39382   1011889.0  2011      66177.781250       0.471829            0\n",
      "78757   1011889.0  2012      96751.851562       0.461999            0\n",
      "118132  1011889.0  2013      64248.148438      -0.335949            0\n",
      "157507  1011889.0  2014     107907.406250       0.679541            1\n",
      "196882  1011889.0  2015     103529.632812      -0.040570            0\n",
      "39383   1014183.0  2011      32103.703125       9.443374            1\n",
      "78758   1014183.0  2012      -2351.851807      -1.073258            0\n",
      "118133  1014183.0  2013       6537.037109      -3.779528            0\n",
      "157508  1014183.0  2014       2274.073975      -0.652125            0\n",
      "196883  1014183.0  2015        207.407410      -0.908795            0\n",
      "39384   1018301.0  2011        400.000000       3.320000            1\n"
     ]
    }
   ],
   "source": [
    "# Sort data by company ID and year\n",
    "data = data.sort_values(by=['comp_id', 'year'])\n",
    "\n",
    "# Remove firms with missing profit values (ensuring valid growth calculations)\n",
    "data = data.dropna(subset=['profit_loss_year'])\n",
    "\n",
    "# Calculate profit growth\n",
    "data['profit_growth'] = data.groupby('comp_id')['profit_loss_year'].pct_change()\n",
    "\n",
    "# Remove NaNs caused by first-year records\n",
    "data = data.dropna(subset=['profit_growth'])\n",
    "\n",
    "# Winsorize extreme values (clip to 1st and 99th percentiles)\n",
    "low_cap, high_cap = data['profit_growth'].quantile([0.01, 0.99])\n",
    "data['profit_growth'] = data['profit_growth'].clip(lower=low_cap, upper=high_cap)\n",
    "\n",
    "# Keep only firms that have valid data for both 2012 and 2013\n",
    "valid_firms = data[(data['year'] == 2012) & (data['comp_id'].isin(data[data['year'] == 2013]['comp_id']))]['comp_id']\n",
    "data = data[data['comp_id'].isin(valid_firms)]\n",
    "\n",
    "# Define fast growth threshold (Top 25% percentile of profit growth)\n",
    "growth_threshold = data['profit_growth'].quantile(0.75)\n",
    "\n",
    "# Create target variable (1 = fast-growing, 0 = not)\n",
    "data['fast_growth'] = (data['profit_growth'] > growth_threshold).astype(int)\n",
    "\n",
    "# Step 1: Replace infinite values with NaN\n",
    "data['profit_growth'].replace([np.inf, -np.inf], np.nan, inplace=True)\n",
    "\n",
    "# Step 2: Drop NaN values in profit_growth (previously inf values)\n",
    "data = data.dropna(subset=['profit_growth'])\n",
    "\n",
    "# Step 3 (Optional): Remove firms with zero profit growth (no change)\n",
    "data = data[data['profit_growth'] != 0]\n",
    "\n",
    "# Show summary\n",
    "print(data[['comp_id', 'year', 'profit_loss_year', 'profit_growth', 'fast_growth']].head(25))"
   ]
  },
  {
   "cell_type": "code",
   "execution_count": 22,
   "id": "6199214a-4f5c-4dc9-a2c1-b378a26749da",
   "metadata": {},
   "outputs": [
    {
     "data": {
      "image/png": "[encoded data removed]",
      "text/plain": [
       "<Figure size 1000x500 with 1 Axes>"
      ]
     },
     "metadata": {},
     "output_type": "display_data"
    },
    {
     "name": "stdout",
     "output_type": "stream",
     "text": [
      "📊 **Summary Statistics for Profit Growth:**\n",
      "count    99775.000000\n",
      "mean        -0.204517\n",
      "std         12.575270\n",
      "min        -69.123128\n",
      "25%         -1.000000\n",
      "50%         -0.395643\n",
      "75%          0.496937\n",
      "max         68.768751\n",
      "Name: profit_growth, dtype: float64\n"
     ]
    }
   ],
   "source": [
    "\n",
    "# Ensure the column exists\n",
    "if 'profit_growth' in data.columns:\n",
    "    \n",
    "    # Step 1: Replace infinite values with NaN\n",
    "    data['profit_growth'].replace([np.inf, -np.inf], np.nan, inplace=True)\n",
    "\n",
    "    # Step 2: Drop NaN values\n",
    "    data = data.dropna(subset=['profit_growth'])\n",
    "\n",
    "    # Step 3: Winsorization limits (1st and 99th percentiles)\n",
    "    low_cap, high_cap = data['profit_growth'].quantile([0.01, 0.99])\n",
    "    \n",
    "    # Step 4: Clip extreme values to remove outliers\n",
    "    data['profit_growth'] = data['profit_growth'].clip(lower=low_cap, upper=high_cap)\n",
    "\n",
    "    # Step 5: Define fast-growth threshold (75th percentile)\n",
    "    growth_threshold = data['profit_growth'].quantile(0.75)\n",
    "\n",
    "    # Step 6: Plot histogram of profit growth\n",
    "    plt.figure(figsize=(10, 5))\n",
    "    plt.hist(data['profit_growth'], bins=50, edgecolor='black', alpha=0.7)\n",
    "    \n",
    "    # Add threshold lines\n",
    "    plt.axvline(growth_threshold, color='red', linestyle='dashed', linewidth=2, label=\"75th Percentile (Fast Growth)\")\n",
    "    plt.axvline(high_cap, color='green', linestyle='dashed', linewidth=2, label=\"99th Percentile (Winsorization)\")\n",
    "    plt.axvline(low_cap, color='blue', linestyle='dashed', linewidth=2, label=\"1st Percentile (Winsorization)\")\n",
    "    \n",
    "    # Labels and title\n",
    "    plt.xlabel('Profit Growth')\n",
    "    plt.ylabel('Number of Firms')\n",
    "    plt.title('Distribution of Profit Growth')\n",
    "    plt.legend()\n",
    "    plt.grid(True)\n",
    "    \n",
    "    # Show plot\n",
    "    plt.show()\n",
    "\n",
    "    # Print summary statistics\n",
    "    print(\"📊 **Summary Statistics for Profit Growth:**\")\n",
    "    print(data['profit_growth'].describe())\n",
    "\n",
    "else:\n",
    "    print(\"⚠️ Column 'profit_growth' not found in the dataset. Please check your file.\")"
   ]
  },
  {
   "cell_type": "markdown",
   "id": "ffa783d2-7760-4403-a1c6-6b70d022cfab",
   "metadata": {},
   "source": [
    "**Highly Skewed Distribution**\n",
    "Most firms have profit growth close to 0, with very few experiencing large increases or declines.\n",
    "The peak is centered near 0, meaning most firms didn't change profit drastically.\n",
    "\n",
    "**Threshold for Fast Growth (75th Percentile: 0.41)**\n",
    "Firms with profit growth > 0.41 (41%) are considered fast-growing.\n",
    "This is reasonable since it's well above the median (-0.42).\n",
    "\n",
    "**Winsorization Limits (1st & 99th Percentiles)**\n",
    "1st percentile: -63.2 (extreme losses capped).\n",
    "99th percentile: 58.0 (extreme growth capped).\n",
    "This removes extreme outliers, making the data more stable for modeling.\n"
   ]
  },
  {
   "cell_type": "markdown",
   "id": "ea7f79a6-8d31-4e23-a09d-26d942164a9b",
   "metadata": {},
   "source": [
    "# Sample design"
   ]
  },
  {
   "cell_type": "code",
   "execution_count": 25,
   "id": "042b3874-82c3-48c3-89e5-d08b62283e08",
   "metadata": {},
   "outputs": [],
   "source": [
    "# Select firms alive in 2012 and filter revenue size\n",
    "data = data.query(\"year == 2012 & status_alive == 1 & sales_mil < 10 & sales_mil > 0.001\")"
   ]
  },
  {
   "cell_type": "code",
   "execution_count": 26,
   "id": "05d0327a-b588-4334-bc35-a6b95e8e07d2",
   "metadata": {},
   "outputs": [
    {
     "data": {
      "text/plain": [
       "count    17713.000000\n",
       "mean         0.140857\n",
       "std          0.347884\n",
       "min          0.000000\n",
       "25%          0.000000\n",
       "50%          0.000000\n",
       "75%          0.000000\n",
       "max          1.000000\n",
       "Name: default, dtype: float64"
      ]
     },
     "execution_count": 26,
     "metadata": {},
     "output_type": "execute_result"
    }
   ],
   "source": [
    "data[\"default\"].describe()"
   ]
  },
  {
   "cell_type": "code",
   "execution_count": 94,
   "id": "17288c8e-37b7-4528-8d60-85dd6b04daea",
   "metadata": {},
   "outputs": [],
   "source": [
    "data.to_csv(data_out + \"work5.csv\", index=False)"
   ]
  },
  {
   "cell_type": "markdown",
   "id": "81009c5f-35e2-47bd-a5d9-4f7cddfb6219",
   "metadata": {},
   "source": [
    "# Feature engineering"
   ]
  },
  {
   "cell_type": "code",
   "execution_count": 97,
   "id": "cf810081-3715-4d69-9704-dbbcdab2f715",
   "metadata": {},
   "outputs": [],
   "source": [
    "current_csv_path = os.path.join(data_out, \"work5.csv\")\n",
    "data = pd.read_csv(current_csv_path)"
   ]
  },
  {
   "cell_type": "code",
   "execution_count": 98,
   "id": "245b947f-28b4-4460-8927-919897badb94",
   "metadata": {},
   "outputs": [],
   "source": [
    "# change some industry category codes\n",
    "def categorize_ind2(value):\n",
    "    if pd.isna(value):\n",
    "        return 99\n",
    "    elif value > 56:\n",
    "        return 60\n",
    "    elif value < 26:\n",
    "        return 20\n",
    "    elif 35 < value < 55: \n",
    "        return 40\n",
    "    elif value == 31:\n",
    "        return 30\n",
    "    else:\n",
    "        return value\n",
    "\n",
    "data[\"ind2_cat\"] = data[\"ind2\"].apply(categorize_ind2)"
   ]
  },
  {
   "cell_type": "code",
   "execution_count": 99,
   "id": "3434841b-d812-4ef9-a2c0-dff65aa21f87",
   "metadata": {},
   "outputs": [
    {
     "data": {
      "text/plain": [
       "ind2_cat\n",
       "20.0       45\n",
       "26.0      901\n",
       "27.0      555\n",
       "28.0     1645\n",
       "29.0      238\n",
       "30.0      143\n",
       "32.0      122\n",
       "33.0     1569\n",
       "40.0      172\n",
       "55.0     2024\n",
       "56.0    10092\n",
       "60.0      202\n",
       "99.0        5\n",
       "Name: comp_id, dtype: int64"
      ]
     },
     "execution_count": 99,
     "metadata": {},
     "output_type": "execute_result"
    }
   ],
   "source": [
    "data.groupby(\"ind2_cat\").count()[\"comp_id\"]"
   ]
  },
  {
   "cell_type": "code",
   "execution_count": 100,
   "id": "3a9b7ee0-7814-47d8-9483-9b230d59d050",
   "metadata": {},
   "outputs": [],
   "source": [
    "# Firm characteristics\n",
    "data[\"age2\"] = data[\"age\"] ** 2\n",
    "data[\"foreign_management\"] = np.where(\n",
    "    data[\"foreign\"] >= 0.5, 1, np.where(data[\"foreign\"].isna(), np.nan, 0)\n",
    ")\n",
    "data[\"gender_m\"] = data[\"gender\"].astype(\"category\")\n",
    "data[\"m_region_loc\"] = data[\"region_m\"].astype(\"category\")"
   ]
  },
  {
   "cell_type": "code",
   "execution_count": 101,
   "id": "ea9d4989-56ea-4ea0-83f9-ce189d0b2f16",
   "metadata": {},
   "outputs": [
    {
     "data": {
      "text/plain": [
       "flag_asset_problem\n",
       "0.0    17703\n",
       "1.0       10\n",
       "Name: comp_id, dtype: int64"
      ]
     },
     "execution_count": 101,
     "metadata": {},
     "output_type": "execute_result"
    }
   ],
   "source": [
    "# assets can't be negative. Change them to 0 and add a flag.\n",
    "data[\"flag_asset_problem\"] = np.where(\n",
    "    (\n",
    "        (data[\"intang_assets\"] < 0)\n",
    "        | (data[\"curr_assets\"] < 0)\n",
    "        | (data[\"fixed_assets\"] < 0)\n",
    "    ),\n",
    "    1,\n",
    "    0,\n",
    ")\n",
    "data[\"flag_asset_problem\"] = np.where(\n",
    "    (\n",
    "        (data[\"intang_assets\"].isna())\n",
    "        | (data[\"curr_assets\"].isna())\n",
    "        | (data[\"fixed_assets\"].isna())\n",
    "    ),\n",
    "    np.nan,\n",
    "    data[\"flag_asset_problem\"],\n",
    ")\n",
    "data.groupby(\"flag_asset_problem\").count()[\"comp_id\"]"
   ]
  },
  {
   "cell_type": "code",
   "execution_count": 102,
   "id": "7ead3fcf-37c7-428e-b537-cb4c2a4f89df",
   "metadata": {},
   "outputs": [],
   "source": [
    "data[\"intang_assets\"] = np.where(data[\"intang_assets\"] < 0, 0, data[\"intang_assets\"])\n",
    "data[\"curr_assets\"] = np.where(data[\"curr_assets\"] < 0, 0, data[\"curr_assets\"])\n",
    "data[\"fixed_assets\"] = np.where(data[\"fixed_assets\"] < 0, 0, data[\"fixed_assets\"])"
   ]
  },
  {
   "cell_type": "code",
   "execution_count": 103,
   "id": "0c170963-e40d-475a-b5f9-c8471562294b",
   "metadata": {},
   "outputs": [
    {
     "data": {
      "text/plain": [
       "count    1.771300e+04\n",
       "mean     2.823125e+05\n",
       "std      1.506311e+06\n",
       "min      0.000000e+00\n",
       "25%      8.037037e+03\n",
       "50%      2.872963e+04\n",
       "75%      1.108926e+05\n",
       "max      1.046833e+08\n",
       "Name: total_assets_bs, dtype: float64"
      ]
     },
     "execution_count": 103,
     "metadata": {},
     "output_type": "execute_result"
    }
   ],
   "source": [
    "# generate total assets\n",
    "data[\"total_assets_bs\"] = (\n",
    "    data[\"intang_assets\"] + data[\"curr_assets\"] + data[\"fixed_assets\"]\n",
    ")\n",
    "data[\"total_assets_bs\"].describe()"
   ]
  },
  {
   "cell_type": "code",
   "execution_count": 104,
   "id": "6406ef3b-5850-4798-aab1-042fc4a0b40a",
   "metadata": {},
   "outputs": [],
   "source": [
    "pl_names = [\n",
    "    \"extra_exp\",\n",
    "    \"extra_inc\",\n",
    "    \"extra_profit_loss\",\n",
    "    \"inc_bef_tax\",\n",
    "    \"inventories\",\n",
    "    \"material_exp\",\n",
    "    \"profit_loss_year\",\n",
    "    \"personnel_exp\",\n",
    "]\n",
    "bs_names = [\n",
    "    \"intang_assets\",\n",
    "    \"curr_liab\",\n",
    "    \"fixed_assets\",\n",
    "    \"liq_assets\",\n",
    "    \"curr_assets\",\n",
    "    \"share_eq\",\n",
    "    \"subscribed_cap\",\n",
    "    \"tang_assets\",\n",
    "]"
   ]
  },
  {
   "cell_type": "code",
   "execution_count": 105,
   "id": "48d47bd8-ae9a-42e0-924a-45c11e1068c0",
   "metadata": {},
   "outputs": [],
   "source": [
    "# divide all pl_names elements by sales and create new column for it\n",
    "data[[col + \"_pl\" for col in pl_names]] = data[pl_names].div(\n",
    "    data[\"sales\"], axis=\"index\"\n",
    ")"
   ]
  },
  {
   "cell_type": "code",
   "execution_count": 106,
   "id": "2c42b1d4-ecfa-414e-b128-b972f00518da",
   "metadata": {},
   "outputs": [],
   "source": [
    "# divide all bs_names elements by total_assets_bs and create new column for it\n",
    "data[[col + \"_bs\" for col in bs_names]] = (\n",
    "    data[bs_names]\n",
    "    .div(data[\"total_assets_bs\"], axis=\"index\")\n",
    "    .replace((np.inf, -np.inf, np.nan), (0, 0, 0))\n",
    ")\n",
    "# get Nan values where total_assets_bs is NaN\n",
    "for col in bs_names:\n",
    "    data[col + \"_bs\"] = np.where(\n",
    "        data[\"total_assets_bs\"].isna(), np.nan, data[col + \"_bs\"]\n",
    "    )"
   ]
  },
  {
   "cell_type": "code",
   "execution_count": 107,
   "id": "c5048247-b588-4d18-9344-197c6aa6fe20",
   "metadata": {},
   "outputs": [],
   "source": [
    "########################################################################\n",
    "# creating flags, and winsorizing tails\n",
    "########################################################################"
   ]
  },
  {
   "cell_type": "code",
   "execution_count": 108,
   "id": "14858bd9-26fd-46b1-9ec3-dfce135d4370",
   "metadata": {},
   "outputs": [],
   "source": [
    "# Variables that represent accounting items that cannot be negative (e.g. materials)\n",
    "zero = [\n",
    "    \"extra_exp_pl\",\n",
    "    \"extra_inc_pl\",\n",
    "    \"inventories_pl\",\n",
    "    \"material_exp_pl\",\n",
    "    \"personnel_exp_pl\",\n",
    "    \"curr_liab_bs\",\n",
    "    \"fixed_assets_bs\",\n",
    "    \"liq_assets_bs\",\n",
    "    \"curr_assets_bs\",\n",
    "    \"subscribed_cap_bs\",\n",
    "    \"intang_assets_bs\",\n",
    "]\n",
    "\n",
    "data[[col + \"_flag_high\" for col in zero]] = np.where(\n",
    "    data[zero].isna(), np.nan, (data[zero] > 1).astype(int)\n",
    ")\n",
    "data[[col for col in zero]] = np.where(\n",
    "    data[zero].isna(), np.nan, np.where(data[zero] > 1, 1, data[zero])\n",
    ")\n",
    "data[[col + \"_flag_error\" for col in zero]] = np.where(\n",
    "    data[zero].isna(), np.nan, (data[zero] < 0).astype(int)\n",
    ")\n",
    "data[[col for col in zero]] = np.where(\n",
    "    data[zero].isna(), np.nan, np.where(data[zero] < 0, 0, data[zero])\n",
    ")"
   ]
  },
  {
   "cell_type": "code",
   "execution_count": 109,
   "id": "96279948-65ee-4d92-9cbf-4d9709a1ad82",
   "metadata": {},
   "outputs": [],
   "source": [
    "# for vars that could be any, but are mostly between -1 and 1\n",
    "anyof = [\"extra_profit_loss_pl\", \"inc_bef_tax_pl\", \"profit_loss_year_pl\", \"share_eq_bs\"]\n",
    "\n",
    "data[[col + \"_flag_low\" for col in anyof]] = np.where(\n",
    "    data[anyof].isna(), np.nan, (data[anyof] < -1).astype(int)\n",
    ")\n",
    "data[[col for col in anyof]] = np.where(\n",
    "    data[anyof].isna(), np.nan, np.where((data[anyof] < -1), -1, data[anyof])\n",
    ")\n",
    "data[[col + \"_flag_high\" for col in anyof]] = np.where(\n",
    "    data[anyof].isna(), np.nan, (data[anyof] > 1).astype(int)\n",
    ")\n",
    "data[[col for col in anyof]] = np.where(\n",
    "    data[anyof].isna(), np.nan, np.where((data[anyof] > 1), 1, data[anyof])\n",
    ")\n",
    "data[[col + \"_flag_zero\" for col in anyof]] = np.where(\n",
    "    data[anyof].isna(), np.nan, (data[anyof] == 0).astype(int)\n",
    ")\n",
    "data[[col + \"_quad\" for col in anyof]] = np.where(\n",
    "    data[anyof].isna(), np.nan, data[anyof] ** 2\n",
    ")"
   ]
  },
  {
   "cell_type": "code",
   "execution_count": 110,
   "id": "7c7369bb-7ef1-4212-a1bf-00a4c0f6d889",
   "metadata": {},
   "outputs": [],
   "source": [
    "# dropping flags with no variation\n",
    "flag_columns = [col for col in data.columns if \"flag\" in col]\n",
    "data = data.drop(\n",
    "    data[flag_columns].std()[(data[flag_columns].std() == 0)].index, axis=1\n",
    ")"
   ]
  },
  {
   "cell_type": "code",
   "execution_count": 111,
   "id": "1cfc94bb-67cd-4cc5-860e-a90e96482608",
   "metadata": {},
   "outputs": [],
   "source": [
    "# CEO age\n",
    "data[\"ceo_age\"] = data[\"year\"] - data[\"birth_year\"]\n",
    "data = data.assign(\n",
    "    flag_low_ceo_age=(data[\"ceo_age\"] < 25).astype(int),\n",
    "    flag_high_ceo_age=(data[\"ceo_age\"] > 75).astype(int),\n",
    "    flag_miss_ceo_age=(data[\"ceo_age\"].isna()).astype(int),\n",
    ")\n",
    "\n",
    "\n",
    "data[\"ceo_age\"] = np.where(data[\"ceo_age\"] < 25, 25, data[\"ceo_age\"])\n",
    "data[\"ceo_age\"] = np.where(data[\"ceo_age\"] > 75, 75, data[\"ceo_age\"])\n",
    "data[\"ceo_age\"] = np.where(\n",
    "    data[\"ceo_age\"].isna(), data[\"ceo_age\"].mean(), data[\"ceo_age\"]\n",
    ")\n",
    "data[\"ceo_young\"] = (data[\"ceo_age\"] < 40).astype(int)"
   ]
  },
  {
   "cell_type": "code",
   "execution_count": 112,
   "id": "8cd08904-990f-45b7-8248-f450c79fd147",
   "metadata": {},
   "outputs": [],
   "source": [
    "# number emp, very noisy measure\n",
    "data[\"labor_avg_mod\"] = np.where(\n",
    "    data[\"labor_avg\"].isna(), data[\"labor_avg\"].mean(), data[\"labor_avg\"]\n",
    ")\n",
    "data[\"flag_miss_labor_avg\"] = (data[\"labor_avg\"].isna()).astype(int)"
   ]
  },
  {
   "cell_type": "code",
   "execution_count": 113,
   "id": "788e2211-d754-4aa8-9868-0079a9a2704d",
   "metadata": {},
   "outputs": [
    {
     "data": {
      "text/plain": [
       "count    15611.000000\n",
       "mean         0.646616\n",
       "std          1.648985\n",
       "min          0.083333\n",
       "25%          0.098485\n",
       "50%          0.236111\n",
       "75%          0.534722\n",
       "max         42.118057\n",
       "Name: labor_avg, dtype: float64"
      ]
     },
     "execution_count": 113,
     "metadata": {},
     "output_type": "execute_result"
    }
   ],
   "source": [
    "data[\"labor_avg\"].describe()"
   ]
  },
  {
   "cell_type": "code",
   "execution_count": 114,
   "id": "8fe8fbc8-63d1-427e-9754-6a484ddf8704",
   "metadata": {},
   "outputs": [
    {
     "data": {
      "text/plain": [
       "count    17713.000000\n",
       "mean         0.646616\n",
       "std          1.548047\n",
       "min          0.083333\n",
       "25%          0.120370\n",
       "50%          0.277778\n",
       "75%          0.646616\n",
       "max         42.118057\n",
       "Name: labor_avg_mod, dtype: float64"
      ]
     },
     "execution_count": 114,
     "metadata": {},
     "output_type": "execute_result"
    }
   ],
   "source": [
    "data[\"labor_avg_mod\"].describe()"
   ]
  },
  {
   "cell_type": "code",
   "execution_count": 115,
   "id": "d6bf6f65-92d5-451a-98ac-5a6bbdb10799",
   "metadata": {},
   "outputs": [],
   "source": [
    "data = data.drop([\"labor_avg\"], axis=1)"
   ]
  },
  {
   "cell_type": "code",
   "execution_count": 116,
   "id": "354581c5-2296-46b4-aaf9-87ceb46e00d9",
   "metadata": {},
   "outputs": [],
   "source": [
    "# create category type variables\n",
    "data[\"urban_m\"] = data[\"urban_m\"].astype(\"category\")\n",
    "data[\"ind2_cat\"] = data[\"ind2_cat\"].astype(\"category\")\n",
    "data[\"default_f\"] = data[\"default\"].astype(\"category\")\n",
    "data[\"default_f\"] = data[\"default_f\"].cat.rename_categories([\"no_default\", \"default\"])"
   ]
  },
  {
   "cell_type": "code",
   "execution_count": 117,
   "id": "10687bd3-8bdd-497b-b1c2-6f0f8e784459",
   "metadata": {},
   "outputs": [],
   "source": [
    "########################################################################\n",
    "# sales\n",
    "########################################################################\n",
    "data[\"sales_mil_log_sq\"] = data[\"sales_mil_log\"] ** 2"
   ]
  },
  {
   "cell_type": "code",
   "execution_count": 118,
   "id": "eaa80a78-c432-41d5-90d4-cc6a6016fb17",
   "metadata": {},
   "outputs": [
    {
     "data": {
      "image/png": "[encoded data removed]"
     },
     "metadata": {
      "image/png": {
       "height": 480,
       "width": 640
      }
     },
     "output_type": "display_data"
    }
   ],
   "source": [
    "from plotnine import *\n",
    "color = [\"blue\", \"red\", \"green\"]\n",
    "\n",
    "(\n",
    "    ggplot(data, aes(x=\"sales_mil_log\", y=\"fast_growth\"))\n",
    "    + geom_point(color=color[0])\n",
    "    + geom_smooth(method=\"lm\", formula=\"y ~ x + I(x**2)\", color=color[1], se=False)\n",
    "    + geom_smooth(method=\"loess\", color=color[2], se=False, size=1.5, span=0.9)\n",
    "    + labs(x=\"sales_mil_log\", y=\"fast growth\")\n",
    "    + theme_bw()\n",
    ")"
   ]
  },
  {
   "cell_type": "code",
   "execution_count": 119,
   "id": "ce2880f5-b514-46fe-b7b1-d38a2d718ef9",
   "metadata": {},
   "outputs": [
    {
     "name": "stdout",
     "output_type": "stream",
     "text": [
      "                            OLS Regression Results                            \n",
      "==============================================================================\n",
      "Dep. Variable:            fast_growth   R-squared:                       0.001\n",
      "Model:                            OLS   Adj. R-squared:                  0.001\n",
      "Method:                 Least Squares   F-statistic:                     12.99\n",
      "Date:                Sun, 09 Mar 2025   Prob (F-statistic):           2.31e-06\n",
      "Time:                        22:39:21   Log-Likelihood:                -10533.\n",
      "No. Observations:               17713   AIC:                         2.107e+04\n",
      "Df Residuals:                   17710   BIC:                         2.110e+04\n",
      "Df Model:                           2                                         \n",
      "Covariance Type:            nonrobust                                         \n",
      "====================================================================================\n",
      "                       coef    std err          t      P>|t|      [0.025      0.975]\n",
      "------------------------------------------------------------------------------------\n",
      "Intercept            0.2771      0.008     36.075      0.000       0.262       0.292\n",
      "sales_mil_log       -0.0023      0.005     -0.464      0.643      -0.012       0.007\n",
      "sales_mil_log_sq    -0.0020      0.001     -2.462      0.014      -0.004      -0.000\n",
      "==============================================================================\n",
      "Omnibus:                     3928.382   Durbin-Watson:                   2.014\n",
      "Prob(Omnibus):                  0.000   Jarque-Bera (JB):             3981.872\n",
      "Skew:                           1.089   Prob(JB):                         0.00\n",
      "Kurtosis:                       2.194   Cond. No.                         41.6\n",
      "==============================================================================\n",
      "\n",
      "Notes:\n",
      "[1] Standard Errors assume that the covariance matrix of the errors is correctly specified.\n"
     ]
    }
   ],
   "source": [
    "# Linear regressions\n",
    "ols_s = smf.ols(\"fast_growth ~ sales_mil_log + sales_mil_log_sq\", data=data).fit()\n",
    "print(ols_s.summary())"
   ]
  },
  {
   "cell_type": "code",
   "execution_count": 120,
   "id": "c649156c-3308-45c8-a87c-bb6207d974b9",
   "metadata": {},
   "outputs": [
    {
     "data": {
      "text/plain": [
       "count    17713.000000\n",
       "mean        -0.070922\n",
       "std          0.874386\n",
       "min         -6.889406\n",
       "25%         -0.184393\n",
       "50%          0.000000\n",
       "75%          0.135051\n",
       "max          7.880300\n",
       "Name: d1_sales_mil_log, dtype: float64"
      ]
     },
     "execution_count": 120,
     "metadata": {},
     "output_type": "execute_result"
    }
   ],
   "source": [
    "########################################################################\n",
    "# sales change\n",
    "########################################################################\n",
    "# Note: graphs not in book\n",
    "\n",
    "# lowess\n",
    "data[\"d1_sales_mil_log\"].describe()"
   ]
  },
  {
   "cell_type": "code",
   "execution_count": 121,
   "id": "725a327b-cece-4290-8375-97eb64a4e611",
   "metadata": {},
   "outputs": [
    {
     "data": {
      "image/png": "[encoded data removed]"
     },
     "metadata": {
      "image/png": {
       "height": 480,
       "width": 640
      }
     },
     "output_type": "display_data"
    }
   ],
   "source": [
    "breaks = np.arange(-5, 11, 5)  # Equivalent to seq(-5, 10, by=5) in R\n",
    "\n",
    "(\n",
    "    ggplot(data, aes(x=\"d1_sales_mil_log\", y=\"fast_growth\"))\n",
    "    + geom_point(color=color[1])\n",
    "    + geom_smooth(method=\"loess\", color=color[0], se=False, size=1.5, span=0.9)\n",
    "    + labs(x=\"Growth rate (Diff of ln sales)\", y=\"fast growth\")\n",
    "    + scale_x_continuous(limits=(-6, 10), breaks=breaks)  # Use np.arange for breaks\n",
    "    + theme_bw()\n",
    ")"
   ]
  },
  {
   "cell_type": "code",
   "execution_count": 122,
   "id": "bdffe4a0-7f8a-42ac-9473-bf9f30f5f37c",
   "metadata": {},
   "outputs": [],
   "source": [
    "# generate variables ---------------------------------------------------\n",
    "\n",
    "data[\"flag_low_d1_sales_mil_log\"] = np.where(data[\"d1_sales_mil_log\"] < -1.5, 1, 0)\n",
    "data[\"flag_high_d1_sales_mil_log\"] = np.where(data[\"d1_sales_mil_log\"] > 1.5, 1, 0)\n",
    "data[\"d1_sales_mil_log_mod\"] = np.where(\n",
    "    data[\"d1_sales_mil_log\"] < -1.5,\n",
    "    -1.5,\n",
    "    np.where(data[\"d1_sales_mil_log\"] > 1.5, 1.5, data[\"d1_sales_mil_log\"]),\n",
    ")\n",
    "data[\"d1_sales_mil_log_mod_sq\"] = data[\"d1_sales_mil_log_mod\"] ** 2"
   ]
  },
  {
   "cell_type": "code",
   "execution_count": 123,
   "id": "a68fa501-38b1-460f-9bc0-4f483425b7e7",
   "metadata": {},
   "outputs": [],
   "source": [
    "# ===========================================\n",
    "# 🔹 1️⃣ Create Financial Ratios\n",
    "# ===========================================\n",
    "\n",
    "\n",
    "# Profitability Ratios\n",
    "data['roa'] = data['profit_loss_year'] / data['total_assets_bs']  # Return on Assets\n",
    "data['roe'] = data['profit_loss_year'] / data['share_eq']  # Return on Equity\n",
    "data['gross_margin'] = (data['sales'] - data['material_exp']) / data['sales']  # Gross Margin\n",
    "\n",
    "# Liquidity & Solvency Ratios\n",
    "data['current_ratio'] = data['curr_assets'] / data['curr_liab']  # Current Ratio\n",
    "data['debt_to_equity'] = data['curr_liab'] / data['share_eq']  # Debt-to-Equity Ratio\n",
    "\n",
    "# Leverage & Growth Ratios\n",
    "data['asset_turnover'] = data['sales'] / data['total_assets_bs']  # Asset Turnover Ratio\n",
    "data['revenue_per_employee'] = data['sales'] / data['labor_avg_mod']  # Revenue per Employee\n",
    "\n",
    "# Handle infinite or missing values in ratios\n",
    "ratio_cols = ['roa', 'roe', 'gross_margin', 'current_ratio', 'debt_to_equity', 'asset_turnover', 'revenue_per_employee']\n",
    "data[ratio_cols] = data[ratio_cols].replace([np.inf, -np.inf], np.nan)  # Replace infinities with NaN\n",
    "data[ratio_cols] = data[ratio_cols].fillna(0)  # Replace NaNs with 0"
   ]
  },
  {
   "cell_type": "code",
   "execution_count": 124,
   "id": "732a31fd-d951-4b4f-8dc5-8085358205e4",
   "metadata": {},
   "outputs": [],
   "source": [
    "# ===========================================\n",
    "# 🔹 2️⃣ Create Interaction Terms\n",
    "# ===========================================\n",
    "\n",
    "# Ensure categorical variables are converted to numerical before multiplication\n",
    "data['foreign_management'] = data['foreign_management'].astype(float)  # Convert to numeric\n",
    "data['ind2_cat'] = data['ind2_cat'].astype(float)  # Convert to numeric\n",
    "data['debt_to_equity'] = data['debt_to_equity'].astype(float)  # Convert to numeric\n",
    "\n",
    "# Now create interaction terms\n",
    "data['age_x_ceo_age'] = data['age'] * data['ceo_age']  # Firm Age x CEO Age\n",
    "data['foreign_x_industry'] = data['foreign_management'] * data['ind2_cat']  # Foreign Management x Industry\n",
    "data['debt_x_profit'] = data['debt_to_equity'] * data['profit_growth']  # Leverage x Profitability"
   ]
  },
  {
   "cell_type": "code",
   "execution_count": 125,
   "id": "042f2b0e-26b9-475d-a4d3-ebf558672399",
   "metadata": {},
   "outputs": [],
   "source": [
    "# ===========================================\n",
    "# 🔹 3️⃣ Create Lagged Features (if past years exist)\n",
    "# ===========================================\n",
    "# Sort by company ID and year\n",
    "data = data.sort_values(by=['comp_id', 'year'])\n",
    "\n",
    "# Create Lagged Features\n",
    "data['lagged_sales_growth'] = data.groupby('comp_id')['d1_sales_mil_log'].shift(1)  # Sales growth from previous year\n",
    "data['lagged_profit_growth'] = data.groupby('comp_id')['profit_growth'].shift(1)  # Profit growth from previous year\n",
    "\n",
    "# Fill missing lagged values with 0 (assuming new firms have no previous growth)\n",
    "data[['lagged_sales_growth', 'lagged_profit_growth']] = data[['lagged_sales_growth', 'lagged_profit_growth']].fillna(0)"
   ]
  },
  {
   "cell_type": "code",
   "execution_count": 126,
   "id": "7ee037c2-e706-485f-a2a8-626f81075fca",
   "metadata": {},
   "outputs": [],
   "source": [
    "# ===========================================\n",
    "# 🔹 4️⃣ Winsorization (Clip extreme values)\n",
    "# ===========================================\n",
    "\n",
    "# Define Winsorization limits\n",
    "winsor_limits = {\n",
    "    'profit_loss_year': (0.01, 0.99),\n",
    "    'roa': (0.01, 0.99),\n",
    "    'roe': (0.01, 0.99),\n",
    "    'gross_margin': (0.01, 0.99),\n",
    "    'current_ratio': (0.01, 0.99),\n",
    "    'debt_to_equity': (0.01, 0.99),\n",
    "    'asset_turnover': (0.01, 0.99),\n",
    "}\n",
    "\n",
    "# Apply winsorization\n",
    "for col, (lower, upper) in winsor_limits.items():\n",
    "    lower_limit = data[col].quantile(lower)\n",
    "    upper_limit = data[col].quantile(upper)\n",
    "    data[col] = np.clip(data[col], lower_limit, upper_limit)"
   ]
  },
  {
   "cell_type": "code",
   "execution_count": 127,
   "id": "bdb2f6d0-681a-4ad0-9809-4dc594ae1357",
   "metadata": {},
   "outputs": [],
   "source": [
    "# no more imputation, drop obs if key vars missing\n",
    "data = data.dropna(subset=[\"liq_assets_bs\", \"foreign\", \"ind\"])"
   ]
  },
  {
   "cell_type": "code",
   "execution_count": 128,
   "id": "534ba72f-a7bf-4a05-9243-c15f33e72980",
   "metadata": {},
   "outputs": [
    {
     "data": {
      "text/plain": [
       "count    15910.000000\n",
       "mean         9.270019\n",
       "std          6.790786\n",
       "min          0.000000\n",
       "25%          3.000000\n",
       "50%          8.000000\n",
       "75%         15.000000\n",
       "max         29.000000\n",
       "Name: age, dtype: float64"
      ]
     },
     "execution_count": 128,
     "metadata": {},
     "output_type": "execute_result"
    }
   ],
   "source": [
    "# drop missing\n",
    "data = data.dropna(subset=[\"age\", \"foreign\", \"material_exp_pl\", \"m_region_loc\"])\n",
    "data[\"age\"].describe()"
   ]
  },
  {
   "cell_type": "code",
   "execution_count": 129,
   "id": "76878c20-b4b8-440d-98d3-442afe5de988",
   "metadata": {},
   "outputs": [],
   "source": [
    "# drop unused factor levels\n",
    "for col in data.select_dtypes(include=[\"category\"]).columns:\n",
    "    data[col] = data[col].cat.remove_unused_categories()"
   ]
  },
  {
   "cell_type": "code",
   "execution_count": 130,
   "id": "38f2ca05-3a40-469b-911d-f0f79bf5a3f9",
   "metadata": {},
   "outputs": [
    {
     "data": {
      "image/png": "[encoded data removed]"
     },
     "metadata": {
      "image/png": {
       "height": 480,
       "width": 640
      }
     },
     "output_type": "display_data"
    }
   ],
   "source": [
    "breaks = np.arange(-1.5, 1.6, 0.5)  # Equivalent to seq(-1.5, 1.5, by=0.5) in R\n",
    "\n",
    "(\n",
    "    ggplot(data, aes(x=\"d1_sales_mil_log\", y=\"fast_growth\"))\n",
    "    + geom_point(size=0.1, color=color[1])\n",
    "    + geom_smooth(method=\"loess\", color=color[0], se=False, size=1.5, span=0.9)\n",
    "    + labs(x=\"Growth rate (Diff of ln sales)\", y=\"fast growth\")\n",
    "    + scale_x_continuous(limits=(-1.5, 1.5), breaks=breaks)  # Use numpy for breaks\n",
    "    + theme_bw()\n",
    ")"
   ]
  },
  {
   "cell_type": "code",
   "execution_count": 131,
   "id": "74fbb716-2015-445a-ad41-0db04c99251b",
   "metadata": {},
   "outputs": [
    {
     "data": {
      "image/png": "[encoded data removed]"
     },
     "metadata": {
      "image/png": {
       "height": 480,
       "width": 640
      }
     },
     "output_type": "display_data"
    }
   ],
   "source": [
    "# Define axis breaks using numpy (Python equivalent of seq in R)\n",
    "x_breaks = np.arange(-5, 6, 1)  # Equivalent to seq(-5, 5, by=1) in R\n",
    "y_breaks = np.arange(-3, 4, 1)  # Equivalent to seq(-3, 3, by=1) in R\n",
    "\n",
    "# Create the plot\n",
    "(\n",
    "    ggplot(data, aes(x=\"d1_sales_mil_log\", y=\"d1_sales_mil_log_mod\"))\n",
    "    + geom_point(size=0.1, color=color[1])\n",
    "    + labs(\n",
    "        x=\"Growth rate (Diff of ln sales) (original)\",\n",
    "        y=\"Growth rate (Diff of ln sales) (winsorized)\",\n",
    "    )\n",
    "    + scale_x_continuous(limits=(-5, 5), breaks=x_breaks)  # Use numpy for x-axis breaks\n",
    "    + scale_y_continuous(limits=(-3, 3), breaks=y_breaks)  # Use numpy for y-axis breaks\n",
    "    + theme_bw()\n",
    ")"
   ]
  },
  {
   "cell_type": "code",
   "execution_count": 132,
   "id": "c638acf1-3289-42fe-9f23-d850aa56f823",
   "metadata": {},
   "outputs": [],
   "source": [
    "data.to_csv(data_out + \"bisnode_firms_clean.csv\", index=False)"
   ]
  },
  {
   "cell_type": "markdown",
   "id": "2c87ef97-3085-4209-a614-1840afbe557f",
   "metadata": {},
   "source": [
    "## Predicting firm exit"
   ]
  },
  {
   "cell_type": "code",
   "execution_count": 134,
   "id": "23cc087b-c9ef-46f5-a6ed-90bf53e02b22",
   "metadata": {},
   "outputs": [
    {
     "data": {
      "text/plain": [
       "'da_data_repo\\\\bisnode-firms\\\\bisnode_firms_clean.csv'"
      ]
     },
     "execution_count": 134,
     "metadata": {},
     "output_type": "execute_result"
    }
   ],
   "source": [
    "path = os.path.join('da_data_repo', 'bisnode-firms', 'bisnode_firms_clean.csv')\n",
    "# this will produce a path with the right syntax for your operating system\n",
    "path"
   ]
  },
  {
   "cell_type": "code",
   "execution_count": 135,
   "id": "1fd7ae58-df6e-44f2-ba09-987a9c3e62c0",
   "metadata": {},
   "outputs": [],
   "source": [
    "# DATA IMPORT - FROM FILE\n",
    "df = pd.read_csv(path)"
   ]
  },
  {
   "cell_type": "code",
   "execution_count": 136,
   "id": "23a163aa-6d8d-4767-ab8a-6ee0f1342e23",
   "metadata": {},
   "outputs": [
    {
     "data": {
      "text/plain": [
       "['year',\n",
       " 'comp_id',\n",
       " 'begin',\n",
       " 'end',\n",
       " 'amort',\n",
       " 'curr_assets',\n",
       " 'curr_liab',\n",
       " 'extra_exp',\n",
       " 'extra_inc',\n",
       " 'extra_profit_loss',\n",
       " 'fixed_assets',\n",
       " 'inc_bef_tax',\n",
       " 'intang_assets',\n",
       " 'inventories',\n",
       " 'liq_assets',\n",
       " 'material_exp',\n",
       " 'personnel_exp',\n",
       " 'profit_loss_year',\n",
       " 'sales',\n",
       " 'share_eq',\n",
       " 'subscribed_cap',\n",
       " 'tang_assets',\n",
       " 'D',\n",
       " 'balsheet_flag',\n",
       " 'balsheet_length',\n",
       " 'balsheet_notfullyear',\n",
       " 'founded_year',\n",
       " 'exit_year',\n",
       " 'ceo_count',\n",
       " 'foreign',\n",
       " 'female',\n",
       " 'birth_year',\n",
       " 'inoffice_days',\n",
       " 'gender',\n",
       " 'origin',\n",
       " 'nace_main',\n",
       " 'ind2',\n",
       " 'ind',\n",
       " 'urban_m',\n",
       " 'region_m',\n",
       " 'founded_date',\n",
       " 'exit_date',\n",
       " 'status_alive',\n",
       " 'default',\n",
       " 'ln_sales',\n",
       " 'sales_mil',\n",
       " 'sales_mil_log',\n",
       " 'd1_sales_mil_log',\n",
       " 'age',\n",
       " 'new',\n",
       " 'profit_growth',\n",
       " 'fast_growth',\n",
       " 'ind2_cat',\n",
       " 'age2',\n",
       " 'foreign_management',\n",
       " 'gender_m',\n",
       " 'm_region_loc',\n",
       " 'flag_asset_problem',\n",
       " 'total_assets_bs',\n",
       " 'extra_exp_pl',\n",
       " 'extra_inc_pl',\n",
       " 'extra_profit_loss_pl',\n",
       " 'inc_bef_tax_pl',\n",
       " 'inventories_pl',\n",
       " 'material_exp_pl',\n",
       " 'profit_loss_year_pl',\n",
       " 'personnel_exp_pl',\n",
       " 'intang_assets_bs',\n",
       " 'curr_liab_bs',\n",
       " 'fixed_assets_bs',\n",
       " 'liq_assets_bs',\n",
       " 'curr_assets_bs',\n",
       " 'share_eq_bs',\n",
       " 'subscribed_cap_bs',\n",
       " 'tang_assets_bs',\n",
       " 'extra_exp_pl_flag_high',\n",
       " 'extra_inc_pl_flag_high',\n",
       " 'inventories_pl_flag_high',\n",
       " 'material_exp_pl_flag_high',\n",
       " 'personnel_exp_pl_flag_high',\n",
       " 'curr_liab_bs_flag_high',\n",
       " 'liq_assets_bs_flag_high',\n",
       " 'subscribed_cap_bs_flag_high',\n",
       " 'extra_exp_pl_flag_error',\n",
       " 'extra_inc_pl_flag_error',\n",
       " 'inventories_pl_flag_error',\n",
       " 'material_exp_pl_flag_error',\n",
       " 'personnel_exp_pl_flag_error',\n",
       " 'curr_liab_bs_flag_error',\n",
       " 'liq_assets_bs_flag_error',\n",
       " 'extra_profit_loss_pl_flag_low',\n",
       " 'inc_bef_tax_pl_flag_low',\n",
       " 'profit_loss_year_pl_flag_low',\n",
       " 'share_eq_bs_flag_low',\n",
       " 'extra_profit_loss_pl_flag_high',\n",
       " 'inc_bef_tax_pl_flag_high',\n",
       " 'profit_loss_year_pl_flag_high',\n",
       " 'share_eq_bs_flag_high',\n",
       " 'extra_profit_loss_pl_flag_zero',\n",
       " 'inc_bef_tax_pl_flag_zero',\n",
       " 'profit_loss_year_pl_flag_zero',\n",
       " 'share_eq_bs_flag_zero',\n",
       " 'extra_profit_loss_pl_quad',\n",
       " 'inc_bef_tax_pl_quad',\n",
       " 'profit_loss_year_pl_quad',\n",
       " 'share_eq_bs_quad',\n",
       " 'ceo_age',\n",
       " 'flag_low_ceo_age',\n",
       " 'flag_high_ceo_age',\n",
       " 'flag_miss_ceo_age',\n",
       " 'ceo_young',\n",
       " 'labor_avg_mod',\n",
       " 'flag_miss_labor_avg',\n",
       " 'default_f',\n",
       " 'sales_mil_log_sq',\n",
       " 'flag_low_d1_sales_mil_log',\n",
       " 'flag_high_d1_sales_mil_log',\n",
       " 'd1_sales_mil_log_mod',\n",
       " 'd1_sales_mil_log_mod_sq',\n",
       " 'roa',\n",
       " 'roe',\n",
       " 'gross_margin',\n",
       " 'current_ratio',\n",
       " 'debt_to_equity',\n",
       " 'asset_turnover',\n",
       " 'revenue_per_employee',\n",
       " 'age_x_ceo_age',\n",
       " 'foreign_x_industry',\n",
       " 'debt_x_profit',\n",
       " 'lagged_sales_growth',\n",
       " 'lagged_profit_growth']"
      ]
     },
     "execution_count": 136,
     "metadata": {},
     "output_type": "execute_result"
    }
   ],
   "source": [
    "df.columns.tolist()"
   ]
  },
  {
   "cell_type": "code",
   "execution_count": 137,
   "id": "49e21d7e-b7f0-47db-a71b-e91d0e1f51a2",
   "metadata": {},
   "outputs": [],
   "source": [
    "# Raw Financial Variables\n",
    "rawvars = [\n",
    "    \"curr_assets\", \"curr_liab\", \"extra_exp\", \"extra_inc\", \"extra_profit_loss\",\n",
    "    \"fixed_assets\", \"inc_bef_tax\", \"intang_assets\", \"inventories\", \"liq_assets\",\n",
    "    \"material_exp\", \"personnel_exp\", \"profit_loss_year\", \"sales\", \"share_eq\",\n",
    "    \"subscribed_cap\"\n",
    "]\n",
    "\n",
    "# Data Quality Flags\n",
    "qualityvars = [\"balsheet_flag\", \"balsheet_length\", \"balsheet_notfullyear\"]\n",
    "\n",
    "# Engineered Financial Variables\n",
    "engvar = [\n",
    "    \"total_assets_bs\", \"fixed_assets_bs\", \"liq_assets_bs\", \"curr_assets_bs\",\n",
    "    \"share_eq_bs\", \"subscribed_cap_bs\", \"intang_assets_bs\", \"extra_exp_pl\",\n",
    "    \"extra_inc_pl\", \"extra_profit_loss_pl\", \"inc_bef_tax_pl\", \"inventories_pl\",\n",
    "    \"material_exp_pl\", \"profit_loss_year_pl\", \"personnel_exp_pl\",\n",
    "    \"roa\", \"roe\", \"gross_margin\", \"current_ratio\", \"debt_to_equity\", \"asset_turnover\",\n",
    "    \"revenue_per_employee\"\n",
    "]\n",
    "\n",
    "# Quadratic Financial Terms\n",
    "engvar2 = [\n",
    "    \"extra_profit_loss_pl_quad\", \"inc_bef_tax_pl_quad\",\n",
    "    \"profit_loss_year_pl_quad\", \"share_eq_bs_quad\"\n",
    "]\n",
    "\n",
    "# Flag Variables (auto-generated)\n",
    "engvar3 = []\n",
    "for col in df.columns:\n",
    "    if col.endswith(('flag_low', 'flag_high', 'flag_error', 'flag_zero')):\n",
    "        engvar3.append(col)\n",
    "\n",
    "# Growth-Related Variables\n",
    "d1 = [\n",
    "    \"d1_sales_mil_log_mod\", \"d1_sales_mil_log_mod_sq\",\n",
    "    \"flag_low_d1_sales_mil_log\", \"flag_high_d1_sales_mil_log\",\n",
    "    \"lagged_sales_growth\", \"lagged_profit_growth\"\n",
    "]\n",
    "\n",
    "# CEO & HR-Related Variables\n",
    "hr = [\n",
    "    \"female\", \"ceo_age\", \"flag_high_ceo_age\", \"flag_low_ceo_age\",\n",
    "    \"flag_miss_ceo_age\", \"ceo_young\", \"labor_avg_mod\",\n",
    "    \"flag_miss_labor_avg\", \"foreign_management\"\n",
    "]\n",
    "\n",
    "# Interaction Terms\n",
    "interaction_terms = [\n",
    "    \"age_x_ceo_age\", \"foreign_x_industry\", \"debt_x_profit\"\n",
    "]"
   ]
  },
  {
   "cell_type": "code",
   "execution_count": 138,
   "id": "e6907cce-7d9f-498e-9d26-70f79ccba62d",
   "metadata": {},
   "outputs": [
    {
     "data": {
      "text/plain": [
       "ind2_cat\n",
       "26.0     836\n",
       "27.0     506\n",
       "28.0    1517\n",
       "29.0     219\n",
       "30.0     129\n",
       "33.0    1466\n",
       "55.0    1872\n",
       "56.0    9365\n",
       "Name: count, dtype: int64"
      ]
     },
     "execution_count": 138,
     "metadata": {},
     "output_type": "execute_result"
    }
   ],
   "source": [
    "df.ind2_cat.value_counts().sort_index()"
   ]
  },
  {
   "cell_type": "code",
   "execution_count": 139,
   "id": "d05787a0-abe8-4cad-b979-69d7213088df",
   "metadata": {},
   "outputs": [],
   "source": [
    "ind2_catmat = patsy.dmatrix(\"0 + C(ind2_cat)\", df, return_type=\"dataframe\")"
   ]
  },
  {
   "cell_type": "code",
   "execution_count": 140,
   "id": "ceceb835-e48d-4382-a2f5-a4f9851192e9",
   "metadata": {},
   "outputs": [
    {
     "data": {
      "text/html": [
       "<div>\n",
       "<style scoped>\n",
       "    .dataframe tbody tr th:only-of-type {\n",
       "        vertical-align: middle;\n",
       "    }\n",
       "\n",
       "    .dataframe tbody tr th {\n",
       "        vertical-align: top;\n",
       "    }\n",
       "\n",
       "    .dataframe thead th {\n",
       "        text-align: right;\n",
       "    }\n",
       "</style>\n",
       "<table border=\"1\" class=\"dataframe\">\n",
       "  <thead>\n",
       "    <tr style=\"text-align: right;\">\n",
       "      <th></th>\n",
       "      <th>C(ind2_cat)[26.0]</th>\n",
       "      <th>C(ind2_cat)[27.0]</th>\n",
       "      <th>C(ind2_cat)[28.0]</th>\n",
       "      <th>C(ind2_cat)[29.0]</th>\n",
       "      <th>C(ind2_cat)[30.0]</th>\n",
       "      <th>C(ind2_cat)[33.0]</th>\n",
       "      <th>C(ind2_cat)[55.0]</th>\n",
       "      <th>C(ind2_cat)[56.0]</th>\n",
       "    </tr>\n",
       "  </thead>\n",
       "  <tbody>\n",
       "    <tr>\n",
       "      <th>0</th>\n",
       "      <td>0.0</td>\n",
       "      <td>0.0</td>\n",
       "      <td>0.0</td>\n",
       "      <td>0.0</td>\n",
       "      <td>0.0</td>\n",
       "      <td>0.0</td>\n",
       "      <td>0.0</td>\n",
       "      <td>1.0</td>\n",
       "    </tr>\n",
       "    <tr>\n",
       "      <th>1</th>\n",
       "      <td>0.0</td>\n",
       "      <td>0.0</td>\n",
       "      <td>0.0</td>\n",
       "      <td>0.0</td>\n",
       "      <td>0.0</td>\n",
       "      <td>0.0</td>\n",
       "      <td>1.0</td>\n",
       "      <td>0.0</td>\n",
       "    </tr>\n",
       "    <tr>\n",
       "      <th>2</th>\n",
       "      <td>0.0</td>\n",
       "      <td>0.0</td>\n",
       "      <td>0.0</td>\n",
       "      <td>0.0</td>\n",
       "      <td>0.0</td>\n",
       "      <td>0.0</td>\n",
       "      <td>1.0</td>\n",
       "      <td>0.0</td>\n",
       "    </tr>\n",
       "    <tr>\n",
       "      <th>3</th>\n",
       "      <td>0.0</td>\n",
       "      <td>0.0</td>\n",
       "      <td>0.0</td>\n",
       "      <td>0.0</td>\n",
       "      <td>0.0</td>\n",
       "      <td>0.0</td>\n",
       "      <td>0.0</td>\n",
       "      <td>1.0</td>\n",
       "    </tr>\n",
       "    <tr>\n",
       "      <th>4</th>\n",
       "      <td>0.0</td>\n",
       "      <td>0.0</td>\n",
       "      <td>0.0</td>\n",
       "      <td>0.0</td>\n",
       "      <td>0.0</td>\n",
       "      <td>0.0</td>\n",
       "      <td>0.0</td>\n",
       "      <td>1.0</td>\n",
       "    </tr>\n",
       "    <tr>\n",
       "      <th>...</th>\n",
       "      <td>...</td>\n",
       "      <td>...</td>\n",
       "      <td>...</td>\n",
       "      <td>...</td>\n",
       "      <td>...</td>\n",
       "      <td>...</td>\n",
       "      <td>...</td>\n",
       "      <td>...</td>\n",
       "    </tr>\n",
       "    <tr>\n",
       "      <th>15905</th>\n",
       "      <td>0.0</td>\n",
       "      <td>0.0</td>\n",
       "      <td>0.0</td>\n",
       "      <td>0.0</td>\n",
       "      <td>0.0</td>\n",
       "      <td>0.0</td>\n",
       "      <td>0.0</td>\n",
       "      <td>1.0</td>\n",
       "    </tr>\n",
       "    <tr>\n",
       "      <th>15906</th>\n",
       "      <td>0.0</td>\n",
       "      <td>0.0</td>\n",
       "      <td>1.0</td>\n",
       "      <td>0.0</td>\n",
       "      <td>0.0</td>\n",
       "      <td>0.0</td>\n",
       "      <td>0.0</td>\n",
       "      <td>0.0</td>\n",
       "    </tr>\n",
       "    <tr>\n",
       "      <th>15907</th>\n",
       "      <td>0.0</td>\n",
       "      <td>0.0</td>\n",
       "      <td>1.0</td>\n",
       "      <td>0.0</td>\n",
       "      <td>0.0</td>\n",
       "      <td>0.0</td>\n",
       "      <td>0.0</td>\n",
       "      <td>0.0</td>\n",
       "    </tr>\n",
       "    <tr>\n",
       "      <th>15908</th>\n",
       "      <td>0.0</td>\n",
       "      <td>0.0</td>\n",
       "      <td>0.0</td>\n",
       "      <td>0.0</td>\n",
       "      <td>0.0</td>\n",
       "      <td>1.0</td>\n",
       "      <td>0.0</td>\n",
       "      <td>0.0</td>\n",
       "    </tr>\n",
       "    <tr>\n",
       "      <th>15909</th>\n",
       "      <td>0.0</td>\n",
       "      <td>0.0</td>\n",
       "      <td>0.0</td>\n",
       "      <td>0.0</td>\n",
       "      <td>0.0</td>\n",
       "      <td>0.0</td>\n",
       "      <td>0.0</td>\n",
       "      <td>1.0</td>\n",
       "    </tr>\n",
       "  </tbody>\n",
       "</table>\n",
       "<p>15910 rows × 8 columns</p>\n",
       "</div>"
      ],
      "text/plain": [
       "       C(ind2_cat)[26.0]  C(ind2_cat)[27.0]  C(ind2_cat)[28.0]  \\\n",
       "0                    0.0                0.0                0.0   \n",
       "1                    0.0                0.0                0.0   \n",
       "2                    0.0                0.0                0.0   \n",
       "3                    0.0                0.0                0.0   \n",
       "4                    0.0                0.0                0.0   \n",
       "...                  ...                ...                ...   \n",
       "15905                0.0                0.0                0.0   \n",
       "15906                0.0                0.0                1.0   \n",
       "15907                0.0                0.0                1.0   \n",
       "15908                0.0                0.0                0.0   \n",
       "15909                0.0                0.0                0.0   \n",
       "\n",
       "       C(ind2_cat)[29.0]  C(ind2_cat)[30.0]  C(ind2_cat)[33.0]  \\\n",
       "0                    0.0                0.0                0.0   \n",
       "1                    0.0                0.0                0.0   \n",
       "2                    0.0                0.0                0.0   \n",
       "3                    0.0                0.0                0.0   \n",
       "4                    0.0                0.0                0.0   \n",
       "...                  ...                ...                ...   \n",
       "15905                0.0                0.0                0.0   \n",
       "15906                0.0                0.0                0.0   \n",
       "15907                0.0                0.0                0.0   \n",
       "15908                0.0                0.0                1.0   \n",
       "15909                0.0                0.0                0.0   \n",
       "\n",
       "       C(ind2_cat)[55.0]  C(ind2_cat)[56.0]  \n",
       "0                    0.0                1.0  \n",
       "1                    1.0                0.0  \n",
       "2                    1.0                0.0  \n",
       "3                    0.0                1.0  \n",
       "4                    0.0                1.0  \n",
       "...                  ...                ...  \n",
       "15905                0.0                1.0  \n",
       "15906                0.0                0.0  \n",
       "15907                0.0                0.0  \n",
       "15908                0.0                0.0  \n",
       "15909                0.0                1.0  \n",
       "\n",
       "[15910 rows x 8 columns]"
      ]
     },
     "execution_count": 140,
     "metadata": {},
     "output_type": "execute_result"
    }
   ],
   "source": [
    "ind2_catmat"
   ]
  },
  {
   "cell_type": "code",
   "execution_count": 141,
   "id": "4c05e6f8-be73-453a-863c-4527dbe8c12d",
   "metadata": {},
   "outputs": [],
   "source": [
    "ind2_catmat = ind2_catmat.drop(['C(ind2_cat)[26.0]'], axis=1)"
   ]
  },
  {
   "cell_type": "code",
   "execution_count": 142,
   "id": "2ee32f61-70b8-4cc2-9899-5070ffb4cf88",
   "metadata": {},
   "outputs": [
    {
     "data": {
      "text/plain": [
       "year\n",
       "2012    15910\n",
       "Name: count, dtype: int64"
      ]
     },
     "execution_count": 142,
     "metadata": {},
     "output_type": "execute_result"
    }
   ],
   "source": [
    "df.year.value_counts().sort_index()"
   ]
  },
  {
   "cell_type": "code",
   "execution_count": 143,
   "id": "5c26e699-887c-4cab-abb6-987dd20d516f",
   "metadata": {},
   "outputs": [
    {
     "data": {
      "text/plain": [
       "region_m\n",
       "Central    9407\n",
       "East       4020\n",
       "West       2483\n",
       "Name: count, dtype: int64"
      ]
     },
     "execution_count": 143,
     "metadata": {},
     "output_type": "execute_result"
    }
   ],
   "source": [
    "df.region_m.value_counts()"
   ]
  },
  {
   "cell_type": "code",
   "execution_count": 144,
   "id": "f4f58874-449a-411d-b08a-5991772784ed",
   "metadata": {},
   "outputs": [],
   "source": [
    "m_region_locmat = patsy.dmatrix(\"0 + C(region_m)\",df, return_type=\"dataframe\")\n",
    "m_region_locmat = m_region_locmat.drop(['C(region_m)[Central]'], axis=1)"
   ]
  },
  {
   "cell_type": "code",
   "execution_count": 145,
   "id": "064119ea-5985-44a1-8679-0c3bcc2190cb",
   "metadata": {},
   "outputs": [
    {
     "data": {
      "text/plain": [
       "urban_m\n",
       "3.0    6463\n",
       "1.0    4993\n",
       "2.0    4454\n",
       "Name: count, dtype: int64"
      ]
     },
     "execution_count": 145,
     "metadata": {},
     "output_type": "execute_result"
    }
   ],
   "source": [
    "df.urban_m.value_counts()"
   ]
  },
  {
   "cell_type": "code",
   "execution_count": 146,
   "id": "5d213559-e2f2-4424-9360-e773d52423ee",
   "metadata": {},
   "outputs": [],
   "source": [
    "urban_mmat = patsy.dmatrix(\"0 + C(urban_m)\",df, return_type=\"dataframe\")\n",
    "urban_mmat = urban_mmat.drop(['C(urban_m)[1.0]'], axis=1)"
   ]
  },
  {
   "cell_type": "code",
   "execution_count": 147,
   "id": "fac2f5a9-75c8-44f2-99ed-241ae4c3aac7",
   "metadata": {},
   "outputs": [],
   "source": [
    "# Base Model Features\n",
    "basevars = df[[\"sales_mil_log\", \"sales_mil_log_sq\", \"d1_sales_mil_log_mod\", \"profit_loss_year_pl\"]]\n",
    "X1 = pd.concat([basevars, ind2_catmat], axis=1)\n",
    "\n",
    "# Model with additional financial and industry features\n",
    "X2additional_vars = df[[\n",
    "    \"fixed_assets_bs\", \"share_eq_bs\", \"curr_liab_bs\", \"curr_liab_bs_flag_error\",\n",
    "    \"curr_liab_bs_flag_high\", \"age\", \"foreign_management\"\n",
    "]]\n",
    "X2 = pd.concat([X1, X2additional_vars], axis=1)\n",
    "\n",
    "# Model with firm characteristics (Fix: Properly concatenate lists of DataFrames)\n",
    "firm = pd.concat([df[[\"age\", \"age2\", \"new\"]], ind2_catmat, m_region_locmat, urban_mmat], axis=1)\n",
    "X3 = pd.concat([df[[\"sales_mil_log\", \"sales_mil_log_sq\"]] , df[engvar], df[d1], firm], axis=1)\n",
    "\n",
    "# Model with full feature set (Fix: Use `df[columns]` for list variables)\n",
    "X4 = pd.concat([\n",
    "    df[[\"sales_mil_log\", \"sales_mil_log_sq\"]],\n",
    "    df[engvar], df[d1], df[engvar2], df[engvar3], df[hr], df[qualityvars], firm\n",
    "], axis=1)"
   ]
  },
  {
   "cell_type": "code",
   "execution_count": 148,
   "id": "c2dd3b83-191f-4fba-9f2c-38246b76859d",
   "metadata": {},
   "outputs": [],
   "source": [
    "# Interaction Model 1\n",
    "int1mat = patsy.dmatrix(\n",
    "    \"0 + C(ind2_cat):age + C(ind2_cat):age2 + C(ind2_cat):d1_sales_mil_log_mod \\\n",
    "    + C(ind2_cat):sales_mil_log + C(ind2_cat):ceo_age + C(ind2_cat):foreign_management \\\n",
    "    + C(ind2_cat):female + C(ind2_cat):C(urban_m) + C(ind2_cat):labor_avg_mod\",\n",
    "    df, return_type=\"dataframe\"\n",
    ")\n",
    "\n",
    "# Drop first level to get k-1 dummies\n",
    "for col in int1mat.columns:\n",
    "    if col.startswith('C(ind2_cat)[26]') or col.endswith('C(urban_m)[1]'):\n",
    "        int1mat = int1mat.drop(columns=[col])\n",
    "\n",
    "# Interaction Model 2\n",
    "int2mat = patsy.dmatrix(\n",
    "    \"0 + sales_mil_log:age + sales_mil_log:female + sales_mil_log:profit_loss_year_pl \\\n",
    "    + sales_mil_log:foreign_management\",\n",
    "    df, return_type=\"dataframe\"\n",
    ")\n",
    "\n",
    "# Full Model with Interactions\n",
    "X5 = pd.concat([X4, int1mat, int2mat], axis=1)"
   ]
  },
  {
   "cell_type": "code",
   "execution_count": 149,
   "id": "b54624e1-c542-4897-b5aa-3845ed46461f",
   "metadata": {},
   "outputs": [],
   "source": [
    "# Define logitvars for LASSO\n",
    "logitvars = pd.concat([X4, int1mat, int2mat], axis=1)"
   ]
  },
  {
   "cell_type": "code",
   "execution_count": 150,
   "id": "23e28d11-67b1-4992-a9f9-63fc623c5912",
   "metadata": {},
   "outputs": [],
   "source": [
    "# Define rfvars for RF (no interactions, no modified features)\n",
    "rfvars  = pd.concat([df[[\"sales_mil\", \"d1_sales_mil_log\"] + rawvars + hr + qualityvars], firm], axis=1)"
   ]
  },
  {
   "cell_type": "code",
   "execution_count": 151,
   "id": "9b86bf84-5f7e-433c-a563-f795051e5a17",
   "metadata": {},
   "outputs": [],
   "source": [
    "y = df['fast_growth']"
   ]
  },
  {
   "cell_type": "code",
   "execution_count": 152,
   "id": "c5c4d9fe-cc07-449b-9204-565b56fcca9b",
   "metadata": {},
   "outputs": [
    {
     "data": {
      "text/plain": [
       "0.26203645505971085"
      ]
     },
     "execution_count": 152,
     "metadata": {},
     "output_type": "execute_result"
    }
   ],
   "source": [
    "y.mean()"
   ]
  },
  {
   "cell_type": "markdown",
   "id": "633339d0-d021-4423-babb-6caed9749ac6",
   "metadata": {},
   "source": [
    "### Split data into train and holdout"
   ]
  },
  {
   "cell_type": "code",
   "execution_count": 154,
   "id": "3216378b-3160-4433-8021-9aaf74c18376",
   "metadata": {},
   "outputs": [],
   "source": [
    "index_train, index_holdout= train_test_split(\n",
    "    df.index.values, train_size=round(0.8*len(df.index)), random_state=42)\n",
    "\n",
    "y_train = y.iloc[index_train]\n",
    "y_holdout = y.iloc[index_holdout]"
   ]
  },
  {
   "cell_type": "code",
   "execution_count": 155,
   "id": "c3d5cda8-56d2-491c-86bf-401ccdf46646",
   "metadata": {},
   "outputs": [
    {
     "name": "stdout",
     "output_type": "stream",
     "text": [
      "Total\n",
      "default\n",
      "0    0.859082\n",
      "1    0.140918\n",
      "Name: proportion, dtype: float64 \n",
      "\n",
      "Train\n",
      "default\n",
      "0    0.858815\n",
      "1    0.141185\n",
      "Name: proportion, dtype: float64 \n",
      "\n",
      "Holdout\n",
      "default\n",
      "0    0.860151\n",
      "1    0.139849\n",
      "Name: proportion, dtype: float64 \n",
      "\n"
     ]
    }
   ],
   "source": [
    "print('Total')\n",
    "print(df['default'].value_counts(normalize=True), '\\n')\n",
    "print('Train')\n",
    "print(df.iloc[index_train]['default'].value_counts(normalize=True), '\\n')\n",
    "print('Holdout')\n",
    "print(df.iloc[index_holdout]['default'].value_counts(normalize=True), '\\n')"
   ]
  },
  {
   "cell_type": "markdown",
   "id": "c7834a47-1c15-418c-a9ff-6a7d7c0d4091",
   "metadata": {},
   "source": [
    "### Predictions using cross-validations"
   ]
  },
  {
   "cell_type": "markdown",
   "id": "490740de-0e72-4b63-9b3c-e100d295f77c",
   "metadata": {},
   "source": [
    "#### specify cross-validation method"
   ]
  },
  {
   "cell_type": "code",
   "execution_count": 158,
   "id": "871c3d52-f31e-4723-8459-347e94190162",
   "metadata": {},
   "outputs": [],
   "source": [
    "k = KFold(n_splits = 5, shuffle = True, random_state = 20250224)"
   ]
  },
  {
   "cell_type": "markdown",
   "id": "d6434c78-46a1-4b98-9506-653976e3ec8e",
   "metadata": {},
   "source": [
    "#### Logistic regression"
   ]
  },
  {
   "cell_type": "code",
   "execution_count": 160,
   "id": "e9ac7b16-fc15-441f-accd-9740cf92af89",
   "metadata": {},
   "outputs": [],
   "source": [
    "# no regularisation needed so setting the paremeter to very high value\n",
    "Cs_value_logit = [1e20]"
   ]
  },
  {
   "cell_type": "code",
   "execution_count": 161,
   "id": "5debee4d-a078-4d7c-800d-16b7e22aed52",
   "metadata": {},
   "outputs": [],
   "source": [
    "logit_model_vars = [X1.iloc[index_train], X2.iloc[index_train], X3.iloc[index_train], X4.iloc[index_train], X5.iloc[index_train]]\n",
    "\n",
    "logit_models = dict()\n",
    "CV_RMSE_folds = dict()"
   ]
  },
  {
   "cell_type": "code",
   "execution_count": 162,
   "id": "603cda6f-a125-4bbd-be4c-5fbdab486240",
   "metadata": {},
   "outputs": [
    {
     "name": "stdout",
     "output_type": "stream",
     "text": [
      "2025-03-09 22:39:26.057514 Running regression 0...\n",
      "2025-03-09 22:39:26.195415 Running regression 1...\n",
      "2025-03-09 22:39:26.454449 Running regression 2...\n",
      "2025-03-09 22:39:30.261062 Running regression 3...\n",
      "2025-03-09 22:39:42.120162 Running regression 4...\n"
     ]
    }
   ],
   "source": [
    "for i in range(len(logit_model_vars)):\n",
    "    print(datetime.datetime.now(), f'Running regression {i}...')\n",
    "    LRCV_brier = LogisticRegressionCV(\n",
    "        Cs = Cs_value_logit, \n",
    "        cv = k, # simply the number of folds\n",
    "        refit = True, \n",
    "        scoring = 'neg_brier_score', \n",
    "        solver = \"newton-cg\", \n",
    "        tol=1e-7, \n",
    "        random_state = 20250224)\n",
    "    logit_models['X'+str(i+1)] = LRCV_brier.fit(logit_model_vars[i], y_train)\n",
    "    \n",
    "    # Calculate RMSE on test for each fold\n",
    "    CV_RMSE_folds['X'+str(i+1)] = np.sqrt(-1*(logit_models['X'+str(i+1)].scores_[1])).flatten()"
   ]
  },
  {
   "cell_type": "code",
   "execution_count": 163,
   "id": "7438a9a1-4ec3-4893-9140-ead1bb30ae4f",
   "metadata": {},
   "outputs": [
    {
     "data": {
      "text/plain": [
       "array([0.42373697, 0.4357424 , 0.42748614, 0.43228078, 0.42065804])"
      ]
     },
     "execution_count": 163,
     "metadata": {},
     "output_type": "execute_result"
    }
   ],
   "source": [
    "np.sqrt(-1*logit_models['X5'].scores_[1].flatten())"
   ]
  },
  {
   "cell_type": "code",
   "execution_count": 164,
   "id": "adce41bc-1125-48dd-b68e-8c89c2863757",
   "metadata": {},
   "outputs": [
    {
     "data": {
      "text/html": [
       "<div>\n",
       "<style scoped>\n",
       "    .dataframe tbody tr th:only-of-type {\n",
       "        vertical-align: middle;\n",
       "    }\n",
       "\n",
       "    .dataframe tbody tr th {\n",
       "        vertical-align: top;\n",
       "    }\n",
       "\n",
       "    .dataframe thead th {\n",
       "        text-align: right;\n",
       "    }\n",
       "</style>\n",
       "<table border=\"1\" class=\"dataframe\">\n",
       "  <thead>\n",
       "    <tr style=\"text-align: right;\">\n",
       "      <th></th>\n",
       "      <th>X1</th>\n",
       "      <th>X2</th>\n",
       "      <th>X3</th>\n",
       "      <th>X4</th>\n",
       "      <th>X5</th>\n",
       "    </tr>\n",
       "  </thead>\n",
       "  <tbody>\n",
       "    <tr>\n",
       "      <th>0</th>\n",
       "      <td>0.428933</td>\n",
       "      <td>0.428364</td>\n",
       "      <td>0.431556</td>\n",
       "      <td>0.423631</td>\n",
       "      <td>0.423737</td>\n",
       "    </tr>\n",
       "    <tr>\n",
       "      <th>1</th>\n",
       "      <td>0.441671</td>\n",
       "      <td>0.441238</td>\n",
       "      <td>0.442126</td>\n",
       "      <td>0.434232</td>\n",
       "      <td>0.435742</td>\n",
       "    </tr>\n",
       "    <tr>\n",
       "      <th>2</th>\n",
       "      <td>0.434291</td>\n",
       "      <td>0.433435</td>\n",
       "      <td>0.434202</td>\n",
       "      <td>0.428098</td>\n",
       "      <td>0.427486</td>\n",
       "    </tr>\n",
       "    <tr>\n",
       "      <th>3</th>\n",
       "      <td>0.441651</td>\n",
       "      <td>0.440528</td>\n",
       "      <td>0.440521</td>\n",
       "      <td>0.434470</td>\n",
       "      <td>0.432281</td>\n",
       "    </tr>\n",
       "    <tr>\n",
       "      <th>4</th>\n",
       "      <td>0.427260</td>\n",
       "      <td>0.426962</td>\n",
       "      <td>0.430131</td>\n",
       "      <td>0.419429</td>\n",
       "      <td>0.420658</td>\n",
       "    </tr>\n",
       "  </tbody>\n",
       "</table>\n",
       "</div>"
      ],
      "text/plain": [
       "         X1        X2        X3        X4        X5\n",
       "0  0.428933  0.428364  0.431556  0.423631  0.423737\n",
       "1  0.441671  0.441238  0.442126  0.434232  0.435742\n",
       "2  0.434291  0.433435  0.434202  0.428098  0.427486\n",
       "3  0.441651  0.440528  0.440521  0.434470  0.432281\n",
       "4  0.427260  0.426962  0.430131  0.419429  0.420658"
      ]
     },
     "execution_count": 164,
     "metadata": {},
     "output_type": "execute_result"
    }
   ],
   "source": [
    "pd.DataFrame(CV_RMSE_folds)"
   ]
  },
  {
   "cell_type": "markdown",
   "id": "f4679d4e-71b6-4af9-9dff-7182244296cb",
   "metadata": {},
   "source": [
    "#### Lasso logit"
   ]
  },
  {
   "cell_type": "code",
   "execution_count": 166,
   "id": "023076eb-e88f-436f-9737-4ba75575a750",
   "metadata": {},
   "outputs": [],
   "source": [
    "normalized_logitvars = pd.DataFrame(StandardScaler().fit_transform(logitvars.iloc[index_train]))\n",
    "normalized_logitvars.columns = logitvars.columns"
   ]
  },
  {
   "cell_type": "code",
   "execution_count": 167,
   "id": "e793b906-d589-44cc-999f-a5464468826f",
   "metadata": {},
   "outputs": [],
   "source": [
    "lambdas=list(10**np.arange(-1,-4.01, -1/3))\n",
    "n_obs = normalized_logitvars.shape[0]*4/5\n",
    "Cs_values = [1/(l*n_obs) for l in lambdas]"
   ]
  },
  {
   "cell_type": "code",
   "execution_count": 168,
   "id": "8960084b-e73c-4efb-8bc2-79626c20dddd",
   "metadata": {},
   "outputs": [],
   "source": [
    "logLasso = LogisticRegressionCV(\n",
    "    Cs = Cs_values, \n",
    "    penalty = 'l1', # L1 makes it lasso\n",
    "    cv = k, \n",
    "    refit = True, \n",
    "    scoring = 'accuracy', \n",
    "    solver = 'liblinear',\n",
    "    random_state = 20250224)"
   ]
  },
  {
   "cell_type": "code",
   "execution_count": 169,
   "id": "82fef11e-72ca-42ef-b9d4-96b16abc8299",
   "metadata": {},
   "outputs": [
    {
     "name": "stdout",
     "output_type": "stream",
     "text": [
      "CPU times: total: 1min 11s\n",
      "Wall time: 1min 16s\n"
     ]
    }
   ],
   "source": [
    "%%time\n",
    "logit_models[\"LASSO\"] = logLasso.fit(normalized_logitvars, y_train)"
   ]
  },
  {
   "cell_type": "code",
   "execution_count": 170,
   "id": "a8ed5293-a53b-400f-8939-5363b45fee62",
   "metadata": {},
   "outputs": [
    {
     "data": {
      "text/html": [
       "<div>\n",
       "<style scoped>\n",
       "    .dataframe tbody tr th:only-of-type {\n",
       "        vertical-align: middle;\n",
       "    }\n",
       "\n",
       "    .dataframe tbody tr th {\n",
       "        vertical-align: top;\n",
       "    }\n",
       "\n",
       "    .dataframe thead th {\n",
       "        text-align: right;\n",
       "    }\n",
       "</style>\n",
       "<table border=\"1\" class=\"dataframe\">\n",
       "  <thead>\n",
       "    <tr style=\"text-align: right;\">\n",
       "      <th></th>\n",
       "      <th>lambdas</th>\n",
       "      <th>C_values</th>\n",
       "      <th>mean_cv_score</th>\n",
       "    </tr>\n",
       "  </thead>\n",
       "  <tbody>\n",
       "    <tr>\n",
       "      <th>0</th>\n",
       "      <td>0.100000</td>\n",
       "      <td>0.000982</td>\n",
       "      <td>0.740336</td>\n",
       "    </tr>\n",
       "    <tr>\n",
       "      <th>1</th>\n",
       "      <td>0.046416</td>\n",
       "      <td>0.002116</td>\n",
       "      <td>0.740336</td>\n",
       "    </tr>\n",
       "    <tr>\n",
       "      <th>2</th>\n",
       "      <td>0.021544</td>\n",
       "      <td>0.004558</td>\n",
       "      <td>0.740258</td>\n",
       "    </tr>\n",
       "    <tr>\n",
       "      <th>3</th>\n",
       "      <td>0.010000</td>\n",
       "      <td>0.009821</td>\n",
       "      <td>0.743950</td>\n",
       "    </tr>\n",
       "    <tr>\n",
       "      <th>4</th>\n",
       "      <td>0.004642</td>\n",
       "      <td>0.021158</td>\n",
       "      <td>0.743793</td>\n",
       "    </tr>\n",
       "    <tr>\n",
       "      <th>5</th>\n",
       "      <td>0.002154</td>\n",
       "      <td>0.045584</td>\n",
       "      <td>0.744658</td>\n",
       "    </tr>\n",
       "    <tr>\n",
       "      <th>6</th>\n",
       "      <td>0.001000</td>\n",
       "      <td>0.098209</td>\n",
       "      <td>0.744500</td>\n",
       "    </tr>\n",
       "    <tr>\n",
       "      <th>7</th>\n",
       "      <td>0.000464</td>\n",
       "      <td>0.211584</td>\n",
       "      <td>0.743558</td>\n",
       "    </tr>\n",
       "    <tr>\n",
       "      <th>8</th>\n",
       "      <td>0.000215</td>\n",
       "      <td>0.455844</td>\n",
       "      <td>0.742458</td>\n",
       "    </tr>\n",
       "    <tr>\n",
       "      <th>9</th>\n",
       "      <td>0.000100</td>\n",
       "      <td>0.982087</td>\n",
       "      <td>0.742615</td>\n",
       "    </tr>\n",
       "  </tbody>\n",
       "</table>\n",
       "</div>"
      ],
      "text/plain": [
       "    lambdas  C_values  mean_cv_score\n",
       "0  0.100000  0.000982       0.740336\n",
       "1  0.046416  0.002116       0.740336\n",
       "2  0.021544  0.004558       0.740258\n",
       "3  0.010000  0.009821       0.743950\n",
       "4  0.004642  0.021158       0.743793\n",
       "5  0.002154  0.045584       0.744658\n",
       "6  0.001000  0.098209       0.744500\n",
       "7  0.000464  0.211584       0.743558\n",
       "8  0.000215  0.455844       0.742458\n",
       "9  0.000100  0.982087       0.742615"
      ]
     },
     "execution_count": 170,
     "metadata": {},
     "output_type": "execute_result"
    }
   ],
   "source": [
    "cv_summary_lasso = cv_summary(lambdas, Cs_values, logit_models[\"LASSO\"])\n",
    "cv_summary_lasso"
   ]
  },
  {
   "cell_type": "code",
   "execution_count": 171,
   "id": "83522af4-8292-434e-a3ae-2bd598941f12",
   "metadata": {},
   "outputs": [
    {
     "data": {
      "text/plain": [
       "0.002154434690031887"
      ]
     },
     "execution_count": 171,
     "metadata": {},
     "output_type": "execute_result"
    }
   ],
   "source": [
    "best_lambda = cv_summary_lasso.sort_values('mean_cv_score', ascending = False).iloc[0,0]\n",
    "best_lambda"
   ]
  },
  {
   "cell_type": "markdown",
   "id": "4c442eaa-b1f9-443b-9fd1-5ebe4104d65a",
   "metadata": {},
   "source": [
    "Training for ***Brier-score*** (aka RMSE)"
   ]
  },
  {
   "cell_type": "code",
   "execution_count": 173,
   "id": "f3c37433-ade1-4565-9ae6-79a46d20c7b5",
   "metadata": {},
   "outputs": [],
   "source": [
    "#refit with negative brier score so we have RMSE values for the same cv split\n",
    "\n",
    "logLasso_brier = LogisticRegressionCV(\n",
    "    Cs = Cs_values, \n",
    "    penalty = 'l1', \n",
    "    cv = k, \n",
    "    refit = True, \n",
    "    scoring = 'neg_brier_score', \n",
    "    solver = \"liblinear\", \n",
    "    random_state = 20250224)\n",
    "logLasso_brier_fitted = logLasso_brier.fit(normalized_logitvars, y_train)"
   ]
  },
  {
   "cell_type": "code",
   "execution_count": 174,
   "id": "ee4547ab-a6ee-4c36-b56b-a69d315138b5",
   "metadata": {},
   "outputs": [],
   "source": [
    "for i, l in enumerate(lambdas):\n",
    "    if l == best_lambda:\n",
    "        best_lambda_i = i\n",
    "        CV_RMSE_folds['LASSO'] = np.sqrt(-1*(logLasso_brier_fitted.scores_[1][:,i])).tolist()"
   ]
  },
  {
   "cell_type": "code",
   "execution_count": 175,
   "id": "15ccc531-8dea-49c3-b85c-4e308371c709",
   "metadata": {},
   "outputs": [
    {
     "data": {
      "text/html": [
       "<div>\n",
       "<style scoped>\n",
       "    .dataframe tbody tr th:only-of-type {\n",
       "        vertical-align: middle;\n",
       "    }\n",
       "\n",
       "    .dataframe tbody tr th {\n",
       "        vertical-align: top;\n",
       "    }\n",
       "\n",
       "    .dataframe thead th {\n",
       "        text-align: right;\n",
       "    }\n",
       "</style>\n",
       "<table border=\"1\" class=\"dataframe\">\n",
       "  <thead>\n",
       "    <tr style=\"text-align: right;\">\n",
       "      <th></th>\n",
       "      <th>X1</th>\n",
       "      <th>X2</th>\n",
       "      <th>X3</th>\n",
       "      <th>X4</th>\n",
       "      <th>X5</th>\n",
       "      <th>LASSO</th>\n",
       "    </tr>\n",
       "  </thead>\n",
       "  <tbody>\n",
       "    <tr>\n",
       "      <th>0</th>\n",
       "      <td>0.428933</td>\n",
       "      <td>0.428364</td>\n",
       "      <td>0.431556</td>\n",
       "      <td>0.423631</td>\n",
       "      <td>0.423737</td>\n",
       "      <td>0.421654</td>\n",
       "    </tr>\n",
       "    <tr>\n",
       "      <th>1</th>\n",
       "      <td>0.441671</td>\n",
       "      <td>0.441238</td>\n",
       "      <td>0.442126</td>\n",
       "      <td>0.434232</td>\n",
       "      <td>0.435742</td>\n",
       "      <td>0.432808</td>\n",
       "    </tr>\n",
       "    <tr>\n",
       "      <th>2</th>\n",
       "      <td>0.434291</td>\n",
       "      <td>0.433435</td>\n",
       "      <td>0.434202</td>\n",
       "      <td>0.428098</td>\n",
       "      <td>0.427486</td>\n",
       "      <td>0.424578</td>\n",
       "    </tr>\n",
       "    <tr>\n",
       "      <th>3</th>\n",
       "      <td>0.441651</td>\n",
       "      <td>0.440528</td>\n",
       "      <td>0.440521</td>\n",
       "      <td>0.434470</td>\n",
       "      <td>0.432281</td>\n",
       "      <td>0.432339</td>\n",
       "    </tr>\n",
       "    <tr>\n",
       "      <th>4</th>\n",
       "      <td>0.427260</td>\n",
       "      <td>0.426962</td>\n",
       "      <td>0.430131</td>\n",
       "      <td>0.419429</td>\n",
       "      <td>0.420658</td>\n",
       "      <td>0.417609</td>\n",
       "    </tr>\n",
       "  </tbody>\n",
       "</table>\n",
       "</div>"
      ],
      "text/plain": [
       "         X1        X2        X3        X4        X5     LASSO\n",
       "0  0.428933  0.428364  0.431556  0.423631  0.423737  0.421654\n",
       "1  0.441671  0.441238  0.442126  0.434232  0.435742  0.432808\n",
       "2  0.434291  0.433435  0.434202  0.428098  0.427486  0.424578\n",
       "3  0.441651  0.440528  0.440521  0.434470  0.432281  0.432339\n",
       "4  0.427260  0.426962  0.430131  0.419429  0.420658  0.417609"
      ]
     },
     "execution_count": 175,
     "metadata": {},
     "output_type": "execute_result"
    }
   ],
   "source": [
    "pd.DataFrame(CV_RMSE_folds)"
   ]
  },
  {
   "cell_type": "markdown",
   "id": "28bd38e3-ee13-4c2c-b76e-1b73b2777a20",
   "metadata": {},
   "source": [
    "### AUC using no loss fn"
   ]
  },
  {
   "cell_type": "code",
   "execution_count": 177,
   "id": "551393ca-a3c2-475c-9c5f-d2ac2414edd9",
   "metadata": {},
   "outputs": [],
   "source": [
    "CV_AUC_folds = dict()"
   ]
  },
  {
   "cell_type": "code",
   "execution_count": 178,
   "id": "f310485e-a258-4f5d-ba36-36c19d74ffe7",
   "metadata": {},
   "outputs": [
    {
     "name": "stdout",
     "output_type": "stream",
     "text": [
      "2025-03-09 22:42:46.300545 Running regression 0...\n",
      "2025-03-09 22:42:46.450020 Running regression 1...\n",
      "2025-03-09 22:42:46.715913 Running regression 2...\n",
      "2025-03-09 22:42:50.282202 Running regression 3...\n",
      "2025-03-09 22:43:01.276743 Running regression 4...\n",
      "CPU times: total: 43 s\n",
      "Wall time: 45.3 s\n"
     ]
    }
   ],
   "source": [
    "%%time\n",
    "for i in range(len(logit_model_vars)):\n",
    "    print(datetime.datetime.now(), f'Running regression {i}...')\n",
    "    LRCV_auc = LogisticRegressionCV(\n",
    "        Cs = Cs_value_logit, \n",
    "        cv = k, \n",
    "        refit = True, \n",
    "        scoring = 'roc_auc', \n",
    "        solver= \"newton-cg\", \n",
    "        tol = 1e-7, \n",
    "        random_state = 20250224)\n",
    "    LRCV_auc_fit = LRCV_auc.fit(logit_model_vars[i], y_train)\n",
    "    # Calculate AUC on test for each fold\n",
    "    CV_AUC_folds['X'+str(i+1)] = LRCV_auc_fit.scores_[1][:,0].tolist()"
   ]
  },
  {
   "cell_type": "code",
   "execution_count": 179,
   "id": "ef679d47-f2da-4eab-9380-55ee38160c72",
   "metadata": {},
   "outputs": [
    {
     "name": "stdout",
     "output_type": "stream",
     "text": [
      "CPU times: total: 1min 14s\n",
      "Wall time: 1min 20s\n"
     ]
    }
   ],
   "source": [
    "%%time\n",
    "#refit with AUC so we have AUC values for the same cv split\n",
    "\n",
    "logLasso_auc = LogisticRegressionCV(\n",
    "    Cs=Cs_values, \n",
    "    penalty='l1', # this makes it lasso\n",
    "    cv=k, \n",
    "    refit=True, scoring='roc_auc', \n",
    "    solver=\"liblinear\", \n",
    "    random_state = 20250224)\n",
    "\n",
    "logLasso_auc_fitted = logLasso_auc.fit(normalized_logitvars, y_train)\n",
    "\n",
    "CV_AUC_folds['LASSO'] = logLasso_auc_fitted.scores_[1][:,best_lambda_i].tolist()"
   ]
  },
  {
   "cell_type": "code",
   "execution_count": 180,
   "id": "b5db3cf2-4803-4fe2-85cf-f30a562f55e7",
   "metadata": {},
   "outputs": [],
   "source": [
    "CV_RMSE = dict()\n",
    "CV_AUC = dict()\n",
    "nvars = dict()"
   ]
  },
  {
   "cell_type": "code",
   "execution_count": 181,
   "id": "60b6c6b1-7481-468b-b201-23e438fa5577",
   "metadata": {},
   "outputs": [],
   "source": [
    "for key in logit_models:\n",
    "    CV_RMSE[key] = np.mean(CV_RMSE_folds[key])\n",
    "    CV_AUC[key] = np.mean(CV_AUC_folds[key])  "
   ]
  },
  {
   "cell_type": "code",
   "execution_count": 182,
   "id": "5d5e9b0f-d0f2-45db-9f48-7daa174b8bb8",
   "metadata": {},
   "outputs": [],
   "source": [
    "for key in logit_models:\n",
    "    if key != 'LASSO':\n",
    "        nvars[key] = logit_models[key].n_features_in_\n",
    "    else:\n",
    "        nvars[key] = sum(x != 0 for x in logit_models[key].coef_[0].tolist())"
   ]
  },
  {
   "cell_type": "code",
   "execution_count": 185,
   "id": "373ef802-6f8e-4046-a789-cbe45e569ba1",
   "metadata": {},
   "outputs": [
    {
     "data": {
      "text/html": [
       "<div>\n",
       "<style scoped>\n",
       "    .dataframe tbody tr th:only-of-type {\n",
       "        vertical-align: middle;\n",
       "    }\n",
       "\n",
       "    .dataframe tbody tr th {\n",
       "        vertical-align: top;\n",
       "    }\n",
       "\n",
       "    .dataframe thead th {\n",
       "        text-align: right;\n",
       "    }\n",
       "</style>\n",
       "<table border=\"1\" class=\"dataframe\">\n",
       "  <thead>\n",
       "    <tr style=\"text-align: right;\">\n",
       "      <th></th>\n",
       "      <th>Number of predictors</th>\n",
       "      <th>CV RMSE</th>\n",
       "      <th>CV AUC</th>\n",
       "    </tr>\n",
       "  </thead>\n",
       "  <tbody>\n",
       "    <tr>\n",
       "      <th>X1</th>\n",
       "      <td>11.0</td>\n",
       "      <td>0.434761</td>\n",
       "      <td>0.585305</td>\n",
       "    </tr>\n",
       "    <tr>\n",
       "      <th>X2</th>\n",
       "      <td>18.0</td>\n",
       "      <td>0.434105</td>\n",
       "      <td>0.589282</td>\n",
       "    </tr>\n",
       "    <tr>\n",
       "      <th>X3</th>\n",
       "      <td>44.0</td>\n",
       "      <td>0.435707</td>\n",
       "      <td>0.579027</td>\n",
       "    </tr>\n",
       "    <tr>\n",
       "      <th>X4</th>\n",
       "      <td>87.0</td>\n",
       "      <td>0.427972</td>\n",
       "      <td>0.637138</td>\n",
       "    </tr>\n",
       "    <tr>\n",
       "      <th>X5</th>\n",
       "      <td>179.0</td>\n",
       "      <td>0.427981</td>\n",
       "      <td>0.633801</td>\n",
       "    </tr>\n",
       "    <tr>\n",
       "      <th>LASSO</th>\n",
       "      <td>94.0</td>\n",
       "      <td>0.425798</td>\n",
       "      <td>0.648837</td>\n",
       "    </tr>\n",
       "  </tbody>\n",
       "</table>\n",
       "</div>"
      ],
      "text/plain": [
       "       Number of predictors   CV RMSE    CV AUC\n",
       "X1                     11.0  0.434761  0.585305\n",
       "X2                     18.0  0.434105  0.589282\n",
       "X3                     44.0  0.435707  0.579027\n",
       "X4                     87.0  0.427972  0.637138\n",
       "X5                    179.0  0.427981  0.633801\n",
       "LASSO                  94.0  0.425798  0.648837"
      ]
     },
     "execution_count": 185,
     "metadata": {},
     "output_type": "execute_result"
    }
   ],
   "source": [
    "logit_summary1 = np.transpose(pd.DataFrame.from_dict([nvars,CV_RMSE,CV_AUC], orient='columns'))\n",
    "logit_summary1.columns = ['Number of predictors', 'CV RMSE', 'CV AUC']\n",
    "logit_summary1"
   ]
  },
  {
   "cell_type": "markdown",
   "id": "c36a7d74-036a-4351-988c-f31b0d500bce",
   "metadata": {},
   "source": [
    "Take best model and estimate RMSE on holdout\n",
    "X4, X5 and LASSO are practically the same - go with the simplest model.\n",
    "\n",
    "The `predict_proba` method returns *probababilites*, as opposed to the `predict` method (see below), which returns *classes* (trues and falses). "
   ]
  },
  {
   "cell_type": "code",
   "execution_count": 188,
   "id": "f214a0b2-2c56-4891-a33d-f4614407f816",
   "metadata": {},
   "outputs": [
    {
     "data": {
      "text/plain": [
       "0.433"
      ]
     },
     "execution_count": 188,
     "metadata": {},
     "output_type": "execute_result"
    }
   ],
   "source": [
    "best_model = logit_models['X4']\n",
    "best_model_X_holdout = X4.iloc[index_holdout]\n",
    "logit_predicted_probabilities_holdout = best_model.predict_proba(best_model_X_holdout)[:,1]\n",
    "best_rmse_holdout = np.sqrt(metrics.mean_squared_error(y_holdout, logit_predicted_probabilities_holdout))\n",
    "round(best_rmse_holdout, 3)"
   ]
  },
  {
   "cell_type": "markdown",
   "id": "7663a4d9-c069-47a0-a9d8-35e6e826f152",
   "metadata": {},
   "source": [
    "### AUC using a loss function"
   ]
  },
  {
   "cell_type": "code",
   "execution_count": 192,
   "id": "96775c99-a40e-48ca-bf39-a874d4d27bc2",
   "metadata": {},
   "outputs": [
    {
     "name": "stdout",
     "output_type": "stream",
     "text": [
      "Prevelance: 0.260\n",
      "Simple best threshold estimation: 0.091.\n"
     ]
    }
   ],
   "source": [
    "FP = 1\n",
    "FN = 10\n",
    "cost = FN/FP\n",
    "\n",
    "# the prevalence, or the proportion of cases in the population (n.cases/(n.controls+n.cases))\n",
    "prevelance = y_train.sum()/len(y_train)\n",
    "print(f'Prevelance: {prevelance:,.3f}')\n",
    "print(f'Simple best threshold estimation: {FP/(FP+FN):,.3f}.')"
   ]
  },
  {
   "cell_type": "code",
   "execution_count": 193,
   "id": "2fdb9672-a3fb-41a0-b32b-050de6ea1161",
   "metadata": {},
   "outputs": [],
   "source": [
    "k = KFold(n_splits = 5, shuffle = True, random_state = 20250224) "
   ]
  },
  {
   "cell_type": "code",
   "execution_count": 194,
   "id": "c6db7638-ca25-4577-a88b-3639a40096ce",
   "metadata": {},
   "outputs": [],
   "source": [
    "best_thresholds_cv = dict()\n",
    "expected_loss_cv = dict()\n",
    "fold5_threshold = dict()\n",
    "fold5_expected_loss = dict()\n",
    "fold5_all_coords = dict()\n",
    "\n",
    "for i, model_name in enumerate(logit_models):\n",
    "    best_thresholds = []\n",
    "    expected_loss =[]\n",
    "    \n",
    "    if model_name != 'LASSO':\n",
    "        X = logit_model_vars[i]\n",
    "        c_index = 0\n",
    "    else:\n",
    "        X = normalized_logitvars\n",
    "        c_index = best_lambda_i\n",
    "    \n",
    "    fold = 0\n",
    "    \n",
    "    for train_index, test_index in k.split(X):\n",
    "        X_fold = X.iloc[test_index,:]\n",
    "        y_fold = y_train.iloc[test_index]\n",
    "        \n",
    "        pred_fold = generate_fold_prediction(logit_models[model_name], X_fold, fold, c_index)\n",
    "    \n",
    "        false_pos_rate, true_pos_rate, thresholds = roc_curve(y_fold, pred_fold)\n",
    "\n",
    "        # this is where we pick the best threshold for minimal loss at each model for every single fold\n",
    "        optimal_threshold = sorted(\n",
    "            list(\n",
    "                zip(\n",
    "                    np.abs(\n",
    "                        true_pos_rate + (1 - prevelance)/(cost * prevelance)*(1-false_pos_rate)\n",
    "                    ),\n",
    "                    thresholds\n",
    "                )\n",
    "            )\n",
    "            , key=lambda i: i[0], reverse=True)[0][1]\n",
    "        \n",
    "        best_thresholds.append(optimal_threshold)\n",
    "        threshold_prediction = np.where(pred_fold < optimal_threshold, 0, 1)\n",
    "        \n",
    "        tn, fp, fn, tp = confusion_matrix(y_fold, threshold_prediction, labels=[0,1]).ravel()\n",
    "\n",
    "        # expected loss for each model for every single fold\n",
    "        curr_exp_loss = (fp*FP + fn*FN)/len(y_fold)\n",
    "        expected_loss.append(curr_exp_loss)\n",
    "        fold = fold+1\n",
    "\n",
    "    # best threshold and expected loss for each model (averaging out the folds)\n",
    "    best_thresholds_cv[model_name] = np.mean(best_thresholds)\n",
    "    expected_loss_cv[model_name] = np.mean(expected_loss)\n",
    "\n",
    "    # best threshold and expected loss for each model for fold5 ONLY\n",
    "    fold5_threshold[model_name] = optimal_threshold\n",
    "    fold5_expected_loss[model_name] = curr_exp_loss\n",
    "\n",
    "    all_coords = pd.DataFrame({\n",
    "        'false_pos': false_pos_rate*sum(y_fold == 0),\n",
    "        'true_pos': true_pos_rate*sum(y_fold == 1),\n",
    "        'false_neg': sum(y_fold == 1) - true_pos_rate*sum(y_fold == 1),\n",
    "        'true_neg': sum(y_fold == 0) - false_pos_rate*sum(y_fold == 0),\n",
    "        'pos': sum(y_fold == 1),\n",
    "        'neg': sum(y_fold == 0),\n",
    "        'n': len(y_fold),\n",
    "        'thresholds': thresholds\n",
    "    })\n",
    "    \n",
    "    fold5_all_coords[model_name] = all_coords"
   ]
  },
  {
   "cell_type": "code",
   "execution_count": 195,
   "id": "7e5a43d1-7473-4834-aa36-39a2882b0e77",
   "metadata": {},
   "outputs": [],
   "source": [
    "logit_summary2 = pd.DataFrame(best_thresholds_cv.items(),columns=['Model', 'Avg of optimal thresholds'])\n",
    "logit_summary2['Threshold for Fold5'] = fold5_threshold.values()\n",
    "logit_summary2['Avg expected loss'] = expected_loss_cv.values()\n",
    "logit_summary2['Expected loss for Fold5'] = fold5_expected_loss.values()"
   ]
  },
  {
   "cell_type": "markdown",
   "id": "ab7dfbbb-2d0b-4f81-bb25-0b3ed8c7081e",
   "metadata": {},
   "source": [
    "**Get expected loss on holdout**"
   ]
  },
  {
   "cell_type": "code",
   "execution_count": 197,
   "id": "7538a62c-65dd-4bd0-a304-c5fca9a51cbf",
   "metadata": {},
   "outputs": [
    {
     "data": {
      "text/plain": [
       "0.09965143707531052"
      ]
     },
     "execution_count": 197,
     "metadata": {},
     "output_type": "execute_result"
    }
   ],
   "source": [
    "best_logit_optimal_treshold = best_thresholds_cv[\"X4\"]\n",
    "best_logit_optimal_treshold"
   ]
  },
  {
   "cell_type": "code",
   "execution_count": 198,
   "id": "03b75988-9e9f-45fb-b57c-aba4286314bb",
   "metadata": {},
   "outputs": [
    {
     "data": {
      "text/plain": [
       "0.727"
      ]
     },
     "execution_count": 198,
     "metadata": {},
     "output_type": "execute_result"
    }
   ],
   "source": [
    "holdout_treshold = np.where(logit_predicted_probabilities_holdout < best_logit_optimal_treshold, 0, 1)\n",
    "tn, fp, fn, tp = confusion_matrix(y_holdout, holdout_treshold, labels=[0,1]).ravel()\n",
    "expected_loss_holdout = (fp*FP + fn*FN)/len(y_holdout)\n",
    "round(expected_loss_holdout, 3)"
   ]
  },
  {
   "cell_type": "code",
   "execution_count": null,
   "id": "9ba82180-dd78-4f1e-a563-ba9e69165d9e",
   "metadata": {},
   "outputs": [],
   "source": []
  },
  {
   "cell_type": "code",
   "execution_count": null,
   "id": "ae4314b3-cf14-42b1-a4ae-cc645a49ea18",
   "metadata": {},
   "outputs": [],
   "source": []
  },
  {
   "cell_type": "code",
   "execution_count": null,
   "id": "635feda5-77c7-4407-b088-29be1ee4111a",
   "metadata": {},
   "outputs": [],
   "source": []
  },
  {
   "cell_type": "code",
   "execution_count": 202,
   "id": "43214be7-e6d9-4311-ba21-8cce20d3e970",
   "metadata": {},
   "outputs": [],
   "source": [
    "# Upgrading Loss Function"
   ]
  },
  {
   "cell_type": "code",
   "execution_count": 203,
   "id": "2a1b877f-7b51-47b5-87d8-0f965864c61a",
   "metadata": {},
   "outputs": [],
   "source": [
    "# 1. Weighted Loss Function:"
   ]
  },
  {
   "cell_type": "code",
   "execution_count": 204,
   "id": "93f0fc11-1875-4fe0-a097-070326167c6a",
   "metadata": {},
   "outputs": [],
   "source": [
    "def weighted_loss(y_true, y_pred, cost_fn=10, cost_fp=1):\n",
    "    tn, fp, fn, tp = confusion_matrix(y_true, y_pred, labels=[0, 1]).ravel()\n",
    "    loss = (fp * cost_fp + fn * cost_fn) / len(y_true)\n",
    "    return loss"
   ]
  },
  {
   "cell_type": "code",
   "execution_count": 206,
   "id": "75ad02d4-c173-4057-a10a-0e993e8d5e0b",
   "metadata": {},
   "outputs": [],
   "source": [
    "# 2. Incorporating Class Imbalance"
   ]
  },
  {
   "cell_type": "code",
   "execution_count": 207,
   "id": "1d255e2a-c830-4e6e-b020-65da5c019ff7",
   "metadata": {},
   "outputs": [],
   "source": [
    "def imbalanced_weighted_loss(y_true, y_pred, cost_fn=10, cost_fp=1, prevalence=None):\n",
    "    if prevalence is None:\n",
    "        prevalence = y_true.sum() / len(y_true)\n",
    "    tn, fp, fn, tp = confusion_matrix(y_true, y_pred, labels=[0, 1]).ravel()\n",
    "    loss = (fp * cost_fp * (1 - prevalence) + fn * cost_fn * prevalence) / len(y_true)\n",
    "    return loss"
   ]
  },
  {
   "cell_type": "code",
   "execution_count": 209,
   "id": "eec6a24d-2635-47d6-aab4-45885214ae36",
   "metadata": {},
   "outputs": [],
   "source": [
    "# 3. Probabilistic Loss"
   ]
  },
  {
   "cell_type": "code",
   "execution_count": 212,
   "id": "b0aa1ac2-9029-4731-84d2-3cb23d0a1ac3",
   "metadata": {},
   "outputs": [],
   "source": [
    "from sklearn.metrics import log_loss\n",
    "\n",
    "def probabilistic_loss(y_true, y_pred):\n",
    "    return log_loss(y_true, y_pred)"
   ]
  },
  {
   "cell_type": "code",
   "execution_count": null,
   "id": "bd308220-ff3a-4472-ac1e-266f32b9a6d8",
   "metadata": {},
   "outputs": [],
   "source": []
  },
  {
   "cell_type": "code",
   "execution_count": null,
   "id": "57348e39-fe58-481d-84c1-8e2cec0effc0",
   "metadata": {},
   "outputs": [],
   "source": []
  },
  {
   "cell_type": "markdown",
   "id": "b85ff0ef-4c4f-4f05-9f70-3eb0d6a51fb6",
   "metadata": {},
   "source": [
    "### Prediction with random forest "
   ]
  },
  {
   "cell_type": "code",
   "execution_count": 223,
   "id": "55a4045b-8a2c-470d-8d0c-13457f5b4d40",
   "metadata": {},
   "outputs": [],
   "source": [
    "rfvars_train = rfvars.iloc[index_train]\n",
    "rfvars_holdout = rfvars.iloc[index_holdout]"
   ]
  },
  {
   "cell_type": "code",
   "execution_count": 224,
   "id": "97667ff1-995b-45a4-b5b0-cab53105395a",
   "metadata": {},
   "outputs": [
    {
     "data": {
      "text/plain": [
       "Index(['sales_mil', 'd1_sales_mil_log', 'curr_assets', 'curr_liab',\n",
       "       'extra_exp', 'extra_inc', 'extra_profit_loss', 'fixed_assets',\n",
       "       'inc_bef_tax', 'intang_assets', 'inventories', 'liq_assets',\n",
       "       'material_exp', 'personnel_exp', 'profit_loss_year', 'sales',\n",
       "       'share_eq', 'subscribed_cap', 'female', 'ceo_age', 'flag_high_ceo_age',\n",
       "       'flag_low_ceo_age', 'flag_miss_ceo_age', 'ceo_young', 'labor_avg_mod',\n",
       "       'flag_miss_labor_avg', 'foreign_management', 'balsheet_flag',\n",
       "       'balsheet_length', 'balsheet_notfullyear', 'age', 'age2', 'new',\n",
       "       'C(ind2_cat)[27.0]', 'C(ind2_cat)[28.0]', 'C(ind2_cat)[29.0]',\n",
       "       'C(ind2_cat)[30.0]', 'C(ind2_cat)[33.0]', 'C(ind2_cat)[55.0]',\n",
       "       'C(ind2_cat)[56.0]', 'C(region_m)[East]', 'C(region_m)[West]',\n",
       "       'C(urban_m)[2.0]', 'C(urban_m)[3.0]'],\n",
       "      dtype='object')"
      ]
     },
     "execution_count": 224,
     "metadata": {},
     "output_type": "execute_result"
    }
   ],
   "source": [
    "rfvars_train.columns"
   ]
  },
  {
   "cell_type": "markdown",
   "id": "1ab40e74-c940-4dc6-bf3e-09cade34a571",
   "metadata": {},
   "source": [
    "### Probability forest\n",
    "\n",
    "A random forest is a meta estimator that fits a number of decision tree classifiers on various sub-samples of the dataset and uses averaging to improve the predictive accuracy and control over-fitting. The sub-sample size is controlled with the `max_samples` parameter if `bootstrap = True` (default), otherwise the whole dataset is used to build each tree.\n",
    "- `max_features`: number of features to consider when looking for the best split\n",
    "- `min_samples_fit`: the minimum number of samples required`to split an internal node"
   ]
  },
  {
   "cell_type": "code",
   "execution_count": 226,
   "id": "0996050f-a464-49fb-8100-382436e1c48a",
   "metadata": {},
   "outputs": [],
   "source": [
    "grid = {'max_features': [5, 6, 7],\n",
    "        'criterion':['gini'],\n",
    "        'min_samples_split': [11, 16]}"
   ]
  },
  {
   "cell_type": "code",
   "execution_count": 227,
   "id": "21e28c47-dc71-4f9c-8c48-751f9ac8a407",
   "metadata": {},
   "outputs": [],
   "source": [
    "prob_forest = RandomForestClassifier(\n",
    "    random_state=20250224, \n",
    "    n_estimators=50, # this should be higher, but it is kept low in order to control runtime on class\n",
    "    oob_score=True)\n",
    "\n",
    "prob_forest_grid = GridSearchCV(\n",
    "    prob_forest, \n",
    "    grid, \n",
    "    cv = 5, \n",
    "    refit='accuracy', # Refit an estimator using the best found parameters on the whole dataset.\n",
    "                      # For multiple metric evaluation, this needs to be a str denoting the scorer \n",
    "                      # that would be used to find the best parameters for refitting the estimator at the end.\n",
    "    scoring = ['accuracy', 'roc_auc', 'neg_brier_score'], \n",
    "    n_jobs=-1)"
   ]
  },
  {
   "cell_type": "code",
   "execution_count": 228,
   "id": "ff20e6cb-04a6-4bf7-9b9e-edb9f5a520fd",
   "metadata": {},
   "outputs": [
    {
     "name": "stdout",
     "output_type": "stream",
     "text": [
      "CPU times: total: 2 s\n",
      "Wall time: 14 s\n"
     ]
    }
   ],
   "source": [
    "%%time\n",
    "prob_forest_fit = prob_forest_grid.fit(rfvars_train, y_train)"
   ]
  },
  {
   "cell_type": "code",
   "execution_count": 229,
   "id": "50f9fa50-bb60-47db-91f9-9ad22fa8efb4",
   "metadata": {},
   "outputs": [
    {
     "data": {
      "text/plain": [
       "{'mean_fit_time': array([2.4348031 , 2.24336376, 2.54104195, 2.62555337, 3.05056705,\n",
       "        2.33302221]),\n",
       " 'std_fit_time': array([0.15962166, 0.13389239, 0.09421563, 0.1856092 , 0.31361281,\n",
       "        0.03994075]),\n",
       " 'mean_score_time': array([0.08515873, 0.08557916, 0.07576132, 0.07693105, 0.07206693,\n",
       "        0.05190983]),\n",
       " 'std_score_time': array([0.01310754, 0.01482499, 0.00175268, 0.0047938 , 0.00271097,\n",
       "        0.00821227]),\n",
       " 'param_criterion': masked_array(data=['gini', 'gini', 'gini', 'gini', 'gini', 'gini'],\n",
       "              mask=[False, False, False, False, False, False],\n",
       "        fill_value='?',\n",
       "             dtype=object),\n",
       " 'param_max_features': masked_array(data=[5, 5, 6, 6, 7, 7],\n",
       "              mask=[False, False, False, False, False, False],\n",
       "        fill_value='?',\n",
       "             dtype=object),\n",
       " 'param_min_samples_split': masked_array(data=[11, 16, 11, 16, 11, 16],\n",
       "              mask=[False, False, False, False, False, False],\n",
       "        fill_value='?',\n",
       "             dtype=object),\n",
       " 'params': [{'criterion': 'gini', 'max_features': 5, 'min_samples_split': 11},\n",
       "  {'criterion': 'gini', 'max_features': 5, 'min_samples_split': 16},\n",
       "  {'criterion': 'gini', 'max_features': 6, 'min_samples_split': 11},\n",
       "  {'criterion': 'gini', 'max_features': 6, 'min_samples_split': 16},\n",
       "  {'criterion': 'gini', 'max_features': 7, 'min_samples_split': 11},\n",
       "  {'criterion': 'gini', 'max_features': 7, 'min_samples_split': 16}],\n",
       " 'split0_test_accuracy': array([0.7529458 , 0.75530244, 0.75687353, 0.75608798, 0.75608798,\n",
       "        0.7529458 ]),\n",
       " 'split1_test_accuracy': array([0.76787117, 0.76197958, 0.76551453, 0.76433621, 0.76276512,\n",
       "        0.76433621]),\n",
       " 'split2_test_accuracy': array([0.74783975, 0.75058916, 0.74980361, 0.74823252, 0.75137471,\n",
       "        0.7529458 ]),\n",
       " 'split3_test_accuracy': array([0.75834971, 0.75952849, 0.75952849, 0.75834971, 0.7497053 ,\n",
       "        0.76188605]),\n",
       " 'split4_test_accuracy': array([0.74891945, 0.75049116, 0.74695481, 0.7497053 , 0.75127701,\n",
       "        0.75049116]),\n",
       " 'mean_test_accuracy': array([0.75518517, 0.75557816, 0.75573499, 0.75534235, 0.75424203,\n",
       "        0.756521  ]),\n",
       " 'std_test_accuracy': array([0.00733728, 0.00463523, 0.00668729, 0.00587904, 0.0047675 ,\n",
       "        0.00550971]),\n",
       " 'rank_test_accuracy': array([5, 3, 2, 4, 6, 1]),\n",
       " 'split0_test_roc_auc': array([0.69067284, 0.68761502, 0.70200484, 0.6993471 , 0.69487955,\n",
       "        0.69633503]),\n",
       " 'split1_test_roc_auc': array([0.68820532, 0.69416084, 0.69288234, 0.68861664, 0.70065129,\n",
       "        0.69828208]),\n",
       " 'split2_test_roc_auc': array([0.68884537, 0.69190159, 0.68453794, 0.69080687, 0.68622255,\n",
       "        0.70137923]),\n",
       " 'split3_test_roc_auc': array([0.68622784, 0.69671266, 0.70180692, 0.69598675, 0.69495971,\n",
       "        0.70008126]),\n",
       " 'split4_test_roc_auc': array([0.70068994, 0.7072007 , 0.70373172, 0.70770819, 0.70935516,\n",
       "        0.70728581]),\n",
       " 'mean_test_roc_auc': array([0.69092826, 0.69551816, 0.69699275, 0.69649311, 0.69721365,\n",
       "        0.70067268]),\n",
       " 'std_test_roc_auc': array([0.00508335, 0.00656186, 0.00729011, 0.00676095, 0.0076232 ,\n",
       "        0.00371787]),\n",
       " 'rank_test_roc_auc': array([6, 5, 3, 4, 2, 1]),\n",
       " 'split0_test_neg_brier_score': array([-0.17402601, -0.17377079, -0.17165428, -0.17192855, -0.17285109,\n",
       "        -0.17291918]),\n",
       " 'split1_test_neg_brier_score': array([-0.17338153, -0.17228186, -0.17250523, -0.17331721, -0.17091917,\n",
       "        -0.17166696]),\n",
       " 'split2_test_neg_brier_score': array([-0.17570047, -0.17483877, -0.17582936, -0.17555229, -0.1759753 ,\n",
       "        -0.17358122]),\n",
       " 'split3_test_neg_brier_score': array([-0.17417376, -0.1721379 , -0.17158269, -0.17238509, -0.17367491,\n",
       "        -0.17124565]),\n",
       " 'split4_test_neg_brier_score': array([-0.17352318, -0.17244611, -0.17244006, -0.17216292, -0.17159026,\n",
       "        -0.17199214]),\n",
       " 'mean_test_neg_brier_score': array([-0.17416099, -0.17309509, -0.17280232, -0.17306921, -0.17300214,\n",
       "        -0.17228103]),\n",
       " 'std_test_neg_brier_score': array([0.00082495, 0.0010484 , 0.00156128, 0.00132798, 0.00176903,\n",
       "        0.00085209]),\n",
       " 'rank_test_neg_brier_score': array([6, 5, 2, 4, 3, 1])}"
      ]
     },
     "execution_count": 229,
     "metadata": {},
     "output_type": "execute_result"
    }
   ],
   "source": [
    "prob_forest_fit.cv_results_"
   ]
  },
  {
   "cell_type": "code",
   "execution_count": 231,
   "id": "cce58965-49c8-4c5c-8a0d-189340d209f3",
   "metadata": {},
   "outputs": [
    {
     "data": {
      "text/plain": [
       "array([0.75518517, 0.75557816, 0.75573499, 0.75534235, 0.75424203,\n",
       "       0.756521  ])"
      ]
     },
     "execution_count": 231,
     "metadata": {},
     "output_type": "execute_result"
    }
   ],
   "source": [
    "cv_accuracy = np.zeros([6])\n",
    "for i in range(5):\n",
    "    cv_accuracy = cv_accuracy + prob_forest_fit.cv_results_['split' + str(i) + '_test_accuracy']\n",
    "cv_accuracy = cv_accuracy/5\n",
    "cv_accuracy"
   ]
  },
  {
   "cell_type": "code",
   "execution_count": 232,
   "id": "95556ef5-dca3-4b69-a736-f897b6212fe9",
   "metadata": {},
   "outputs": [
    {
     "data": {
      "text/plain": [
       "0.7565210037085794"
      ]
     },
     "execution_count": 232,
     "metadata": {},
     "output_type": "execute_result"
    }
   ],
   "source": [
    "prob_forest_fit.best_score_"
   ]
  },
  {
   "cell_type": "code",
   "execution_count": 233,
   "id": "ffd21e1a-605c-47d2-b428-6d203d80e944",
   "metadata": {},
   "outputs": [
    {
     "data": {
      "text/plain": [
       "array([0.69092826, 0.69551816, 0.69699275, 0.69649311, 0.69721365,\n",
       "       0.70067268])"
      ]
     },
     "execution_count": 233,
     "metadata": {},
     "output_type": "execute_result"
    }
   ],
   "source": [
    "cv_auc = np.zeros([6])\n",
    "for i in range(5):\n",
    "    cv_auc = cv_auc + prob_forest_fit.cv_results_['split' + str(i) + '_test_roc_auc']\n",
    "cv_auc = cv_auc/5\n",
    "cv_auc"
   ]
  },
  {
   "cell_type": "code",
   "execution_count": 234,
   "id": "bff34142-1c26-465d-b601-a0871b8e05aa",
   "metadata": {},
   "outputs": [
    {
     "data": {
      "text/plain": [
       "array([0.41732484, 0.41604507, 0.41569077, 0.41601283, 0.41592984,\n",
       "       0.41506623])"
      ]
     },
     "execution_count": 234,
     "metadata": {},
     "output_type": "execute_result"
    }
   ],
   "source": [
    "cv_rmse = np.zeros([6])\n",
    "for i in range(5):\n",
    "    cv_rmse = cv_rmse +np.sqrt(-1*(prob_forest_fit.cv_results_['split' + str(i) + '_test_neg_brier_score'])).tolist()\n",
    "cv_rmse = cv_rmse/5\n",
    "cv_rmse"
   ]
  },
  {
   "cell_type": "code",
   "execution_count": 236,
   "id": "68320ce7-cad1-40ba-83fb-5b11d321d01c",
   "metadata": {},
   "outputs": [],
   "source": [
    "prob_forest_cv_results = pd.DataFrame({\n",
    "    'max_features': prob_forest_fit.cv_results_['param_max_features'],\n",
    "    'min_samples_split': prob_forest_fit.cv_results_['param_min_samples_split'],\n",
    "    'cv_accuracy': cv_accuracy,\n",
    "    'cv_auc': cv_auc,\n",
    "    'cv_rmse': cv_rmse\n",
    "})"
   ]
  },
  {
   "cell_type": "code",
   "execution_count": 237,
   "id": "01f0084e-c4c6-4d17-96ed-9eded435673e",
   "metadata": {},
   "outputs": [
    {
     "data": {
      "text/html": [
       "<style type=\"text/css\">\n",
       "</style>\n",
       "<table id=\"T_fe6c8\">\n",
       "  <thead>\n",
       "    <tr>\n",
       "      <th class=\"blank level0\" >&nbsp;</th>\n",
       "      <th id=\"T_fe6c8_level0_col0\" class=\"col_heading level0 col0\" >max_features</th>\n",
       "      <th id=\"T_fe6c8_level0_col1\" class=\"col_heading level0 col1\" >min_samples_split</th>\n",
       "      <th id=\"T_fe6c8_level0_col2\" class=\"col_heading level0 col2\" >cv_accuracy</th>\n",
       "      <th id=\"T_fe6c8_level0_col3\" class=\"col_heading level0 col3\" >cv_auc</th>\n",
       "      <th id=\"T_fe6c8_level0_col4\" class=\"col_heading level0 col4\" >cv_rmse</th>\n",
       "    </tr>\n",
       "  </thead>\n",
       "  <tbody>\n",
       "    <tr>\n",
       "      <th id=\"T_fe6c8_level0_row0\" class=\"row_heading level0 row0\" >0</th>\n",
       "      <td id=\"T_fe6c8_row0_col0\" class=\"data row0 col0\" >5</td>\n",
       "      <td id=\"T_fe6c8_row0_col1\" class=\"data row0 col1\" >11</td>\n",
       "      <td id=\"T_fe6c8_row0_col2\" class=\"data row0 col2\" >0.75519</td>\n",
       "      <td id=\"T_fe6c8_row0_col3\" class=\"data row0 col3\" >0.69093</td>\n",
       "      <td id=\"T_fe6c8_row0_col4\" class=\"data row0 col4\" >0.41732</td>\n",
       "    </tr>\n",
       "    <tr>\n",
       "      <th id=\"T_fe6c8_level0_row1\" class=\"row_heading level0 row1\" >1</th>\n",
       "      <td id=\"T_fe6c8_row1_col0\" class=\"data row1 col0\" >5</td>\n",
       "      <td id=\"T_fe6c8_row1_col1\" class=\"data row1 col1\" >16</td>\n",
       "      <td id=\"T_fe6c8_row1_col2\" class=\"data row1 col2\" >0.75558</td>\n",
       "      <td id=\"T_fe6c8_row1_col3\" class=\"data row1 col3\" >0.69552</td>\n",
       "      <td id=\"T_fe6c8_row1_col4\" class=\"data row1 col4\" >0.41605</td>\n",
       "    </tr>\n",
       "    <tr>\n",
       "      <th id=\"T_fe6c8_level0_row2\" class=\"row_heading level0 row2\" >2</th>\n",
       "      <td id=\"T_fe6c8_row2_col0\" class=\"data row2 col0\" >6</td>\n",
       "      <td id=\"T_fe6c8_row2_col1\" class=\"data row2 col1\" >11</td>\n",
       "      <td id=\"T_fe6c8_row2_col2\" class=\"data row2 col2\" >0.75573</td>\n",
       "      <td id=\"T_fe6c8_row2_col3\" class=\"data row2 col3\" >0.69699</td>\n",
       "      <td id=\"T_fe6c8_row2_col4\" class=\"data row2 col4\" >0.41569</td>\n",
       "    </tr>\n",
       "    <tr>\n",
       "      <th id=\"T_fe6c8_level0_row3\" class=\"row_heading level0 row3\" >3</th>\n",
       "      <td id=\"T_fe6c8_row3_col0\" class=\"data row3 col0\" >6</td>\n",
       "      <td id=\"T_fe6c8_row3_col1\" class=\"data row3 col1\" >16</td>\n",
       "      <td id=\"T_fe6c8_row3_col2\" class=\"data row3 col2\" >0.75534</td>\n",
       "      <td id=\"T_fe6c8_row3_col3\" class=\"data row3 col3\" >0.69649</td>\n",
       "      <td id=\"T_fe6c8_row3_col4\" class=\"data row3 col4\" >0.41601</td>\n",
       "    </tr>\n",
       "    <tr>\n",
       "      <th id=\"T_fe6c8_level0_row4\" class=\"row_heading level0 row4\" >4</th>\n",
       "      <td id=\"T_fe6c8_row4_col0\" class=\"data row4 col0\" >7</td>\n",
       "      <td id=\"T_fe6c8_row4_col1\" class=\"data row4 col1\" >11</td>\n",
       "      <td id=\"T_fe6c8_row4_col2\" class=\"data row4 col2\" >0.75424</td>\n",
       "      <td id=\"T_fe6c8_row4_col3\" class=\"data row4 col3\" >0.69721</td>\n",
       "      <td id=\"T_fe6c8_row4_col4\" class=\"data row4 col4\" >0.41593</td>\n",
       "    </tr>\n",
       "    <tr>\n",
       "      <th id=\"T_fe6c8_level0_row5\" class=\"row_heading level0 row5\" >5</th>\n",
       "      <td id=\"T_fe6c8_row5_col0\" class=\"data row5 col0\" >7</td>\n",
       "      <td id=\"T_fe6c8_row5_col1\" class=\"data row5 col1\" >16</td>\n",
       "      <td id=\"T_fe6c8_row5_col2\" class=\"data row5 col2\" >0.75652</td>\n",
       "      <td id=\"T_fe6c8_row5_col3\" class=\"data row5 col3\" >0.70067</td>\n",
       "      <td id=\"T_fe6c8_row5_col4\" class=\"data row5 col4\" >0.41507</td>\n",
       "    </tr>\n",
       "  </tbody>\n",
       "</table>\n"
      ],
      "text/plain": [
       "<pandas.io.formats.style.Styler at 0x238ab2d4530>"
      ]
     },
     "execution_count": 237,
     "metadata": {},
     "output_type": "execute_result"
    }
   ],
   "source": [
    "prob_forest_cv_results.style.format(\n",
    "    {\n",
    "        'cv_accuracy': '{:.5f}',\n",
    "        'cv_auc': '{:.5f}',\n",
    "        'cv_rmse': '{:.5f}'\n",
    "    }\n",
    ")"
   ]
  },
  {
   "cell_type": "code",
   "execution_count": 238,
   "id": "9d3b2746-844d-4aaa-859e-d0e2db741f4f",
   "metadata": {},
   "outputs": [
    {
     "data": {
      "text/plain": [
       "{'criterion': 'gini', 'max_features': 7, 'min_samples_split': 16}"
      ]
     },
     "execution_count": 238,
     "metadata": {},
     "output_type": "execute_result"
    }
   ],
   "source": [
    "best_max_features = prob_forest_fit.best_params_['max_features']\n",
    "best_min_sample_split = prob_forest_fit.best_params_['min_samples_split']\n",
    "prob_forest_fit.best_params_"
   ]
  },
  {
   "cell_type": "code",
   "execution_count": 239,
   "id": "456c1d62-a5ef-4498-8b98-1952af9bff5b",
   "metadata": {},
   "outputs": [
    {
     "data": {
      "text/html": [
       "<div>\n",
       "<style scoped>\n",
       "    .dataframe tbody tr th:only-of-type {\n",
       "        vertical-align: middle;\n",
       "    }\n",
       "\n",
       "    .dataframe tbody tr th {\n",
       "        vertical-align: top;\n",
       "    }\n",
       "\n",
       "    .dataframe thead th {\n",
       "        text-align: right;\n",
       "    }\n",
       "</style>\n",
       "<table border=\"1\" class=\"dataframe\">\n",
       "  <thead>\n",
       "    <tr style=\"text-align: right;\">\n",
       "      <th></th>\n",
       "      <th>X1</th>\n",
       "      <th>X2</th>\n",
       "      <th>X3</th>\n",
       "      <th>X4</th>\n",
       "      <th>X5</th>\n",
       "      <th>LASSO</th>\n",
       "      <th>rf_p</th>\n",
       "    </tr>\n",
       "  </thead>\n",
       "  <tbody>\n",
       "    <tr>\n",
       "      <th>0</th>\n",
       "      <td>0.584463</td>\n",
       "      <td>0.587532</td>\n",
       "      <td>0.568428</td>\n",
       "      <td>0.627772</td>\n",
       "      <td>0.625725</td>\n",
       "      <td>0.639216</td>\n",
       "      <td>0.696335</td>\n",
       "    </tr>\n",
       "    <tr>\n",
       "      <th>1</th>\n",
       "      <td>0.578787</td>\n",
       "      <td>0.581041</td>\n",
       "      <td>0.574634</td>\n",
       "      <td>0.635816</td>\n",
       "      <td>0.625448</td>\n",
       "      <td>0.646504</td>\n",
       "      <td>0.698282</td>\n",
       "    </tr>\n",
       "    <tr>\n",
       "      <th>2</th>\n",
       "      <td>0.584902</td>\n",
       "      <td>0.586326</td>\n",
       "      <td>0.580285</td>\n",
       "      <td>0.628924</td>\n",
       "      <td>0.626353</td>\n",
       "      <td>0.645103</td>\n",
       "      <td>0.701379</td>\n",
       "    </tr>\n",
       "    <tr>\n",
       "      <th>3</th>\n",
       "      <td>0.583882</td>\n",
       "      <td>0.593624</td>\n",
       "      <td>0.592737</td>\n",
       "      <td>0.640783</td>\n",
       "      <td>0.645784</td>\n",
       "      <td>0.649100</td>\n",
       "      <td>0.700081</td>\n",
       "    </tr>\n",
       "    <tr>\n",
       "      <th>4</th>\n",
       "      <td>0.594490</td>\n",
       "      <td>0.597888</td>\n",
       "      <td>0.579051</td>\n",
       "      <td>0.652396</td>\n",
       "      <td>0.645696</td>\n",
       "      <td>0.664261</td>\n",
       "      <td>0.707286</td>\n",
       "    </tr>\n",
       "  </tbody>\n",
       "</table>\n",
       "</div>"
      ],
      "text/plain": [
       "         X1        X2        X3        X4        X5     LASSO      rf_p\n",
       "0  0.584463  0.587532  0.568428  0.627772  0.625725  0.639216  0.696335\n",
       "1  0.578787  0.581041  0.574634  0.635816  0.625448  0.646504  0.698282\n",
       "2  0.584902  0.586326  0.580285  0.628924  0.626353  0.645103  0.701379\n",
       "3  0.583882  0.593624  0.592737  0.640783  0.645784  0.649100  0.700081\n",
       "4  0.594490  0.597888  0.579051  0.652396  0.645696  0.664261  0.707286"
      ]
     },
     "execution_count": 239,
     "metadata": {},
     "output_type": "execute_result"
    }
   ],
   "source": [
    "prob_forest_best_results = prob_forest_cv_results[\n",
    "    (prob_forest_cv_results.max_features == best_max_features) & \n",
    "    (prob_forest_cv_results.min_samples_split == best_min_sample_split)]\n",
    "prob_forest_best_results_index = prob_forest_best_results.index.values[0]\n",
    "\n",
    "CV_RMSE['rf_p'] = prob_forest_best_results.cv_rmse.values[0]\n",
    "CV_AUC['rf_p'] = prob_forest_best_results.cv_auc.values[0]\n",
    "\n",
    "CV_RMSE_folds_rf_p = list()\n",
    "\n",
    "# Get Fold Level RMSE and AUC\n",
    "for i in range(5):\n",
    "    rmse = np.sqrt(-1*(prob_forest_fit.cv_results_['split' + str(i) + '_test_neg_brier_score'])).tolist()[prob_forest_best_results_index]\n",
    "    CV_RMSE_folds_rf_p.append(rmse)\n",
    "\n",
    "CV_RMSE_folds['rf_p'] = CV_RMSE_folds_rf_p\n",
    "\n",
    "CV_AUC_folds_rf_p = list()\n",
    "\n",
    "for i in range(5):\n",
    "    rmse = prob_forest_fit.cv_results_['split' + str(i) + '_test_roc_auc'][prob_forest_best_results_index]\n",
    "    CV_AUC_folds_rf_p.append(rmse)\n",
    "\n",
    "CV_AUC_folds['rf_p'] = CV_AUC_folds_rf_p\n",
    "pd.DataFrame(CV_AUC_folds)"
   ]
  },
  {
   "cell_type": "code",
   "execution_count": 241,
   "id": "26a0303d-37d8-411e-a5c7-948fddc70c3b",
   "metadata": {},
   "outputs": [
    {
     "name": "stdout",
     "output_type": "stream",
     "text": [
      "2025-03-09 22:45:12.834150: fold 0...\n",
      "2025-03-09 22:45:14.251940: fold 1...\n",
      "2025-03-09 22:45:15.866234: fold 2...\n",
      "2025-03-09 22:45:17.426714: fold 3...\n",
      "2025-03-09 22:45:19.045611: fold 4...\n"
     ]
    }
   ],
   "source": [
    "best_thresholds = list()\n",
    "expected_loss = list()\n",
    "\n",
    "fold = 0\n",
    "for train_index, test_index in k.split(rfvars_train):\n",
    "    print(f'{datetime.datetime.now()}: fold {fold}...') \n",
    "    X_fold = rfvars_train.iloc[test_index,:]\n",
    "    y_fold = y_train.iloc[test_index]\n",
    "    \n",
    "    X_fold_train = rfvars_train.iloc[train_index,:]\n",
    "    y_fold_train = y_train.iloc[train_index]\n",
    "    \n",
    "    prob_forest_best = RandomForestClassifier(\n",
    "        random_state=20250224, \n",
    "        n_estimators=50, # make it higher in practice (default being 100)\n",
    "        oob_score=True,\n",
    "        criterion = 'gini', \n",
    "        max_features = best_max_features, min_samples_split = best_min_sample_split\n",
    "    )\n",
    "    \n",
    "    prob_forest_best_fold = prob_forest_best.fit(X_fold_train, y_fold_train)\n",
    "    pred_fold = prob_forest_best_fold.predict_proba(X_fold)[:,1]\n",
    "\n",
    "    false_pos_rate, true_pos_rate, threshold = roc_curve(y_fold, pred_fold)\n",
    "    \n",
    "    best_threshold = sorted(\n",
    "        list(\n",
    "            zip(\n",
    "                np.abs(\n",
    "                    true_pos_rate + (1 - prevelance)/(cost * prevelance)*(1-false_pos_rate)\n",
    "                ),\n",
    "                threshold\n",
    "            )\n",
    "        ), \n",
    "        key=lambda x: x[0], reverse=True)[0][1]\n",
    "    \n",
    "    best_thresholds.append(best_threshold)\n",
    "    \n",
    "    threshold_prediction = np.where(pred_fold < best_threshold, 0, 1)\n",
    "    tn, fp, fn, tp = confusion_matrix(y_fold, threshold_prediction, labels=[0,1]).ravel()\n",
    "    curr_exp_loss = (fp*FP + fn*FN)/len(y_fold)\n",
    "    expected_loss.append(curr_exp_loss)\n",
    "    fold += 1"
   ]
  },
  {
   "cell_type": "code",
   "execution_count": 243,
   "id": "af291133-8872-409b-ac1e-4d16e81c5723",
   "metadata": {},
   "outputs": [
    {
     "name": "stdout",
     "output_type": "stream",
     "text": [
      "Fold: 0, best threshold: 0.0723.\n",
      "Fold: 1, best threshold: 0.1366.\n",
      "Fold: 2, best threshold: 0.0648.\n",
      "Fold: 3, best threshold: 0.0836.\n",
      "Fold: 4, best threshold: 0.1005.\n"
     ]
    }
   ],
   "source": [
    "for f, t in enumerate(best_thresholds):\n",
    "    print(f'Fold: {f}, best threshold: {t:,.4f}.')"
   ]
  },
  {
   "cell_type": "code",
   "execution_count": 244,
   "id": "e404b2d2-0e71-4bd2-a770-6d1dd02dc6ba",
   "metadata": {},
   "outputs": [
    {
     "name": "stdout",
     "output_type": "stream",
     "text": [
      "Fold: 0, smalles loss: 0.7258.\n",
      "Fold: 1, smalles loss: 0.6681.\n",
      "Fold: 2, smalles loss: 0.7357.\n",
      "Fold: 3, smalles loss: 0.7010.\n",
      "Fold: 4, smalles loss: 0.7128.\n"
     ]
    }
   ],
   "source": [
    "for f, l in enumerate(expected_loss):\n",
    "    print(f'Fold: {f}, smalles loss: {l:,.4f}.')"
   ]
  },
  {
   "cell_type": "code",
   "execution_count": 245,
   "id": "ae8ac42d-dff9-4703-952d-db44ee983b02",
   "metadata": {},
   "outputs": [
    {
     "data": {
      "text/html": [
       "<div>\n",
       "<style scoped>\n",
       "    .dataframe tbody tr th:only-of-type {\n",
       "        vertical-align: middle;\n",
       "    }\n",
       "\n",
       "    .dataframe tbody tr th {\n",
       "        vertical-align: top;\n",
       "    }\n",
       "\n",
       "    .dataframe thead th {\n",
       "        text-align: right;\n",
       "    }\n",
       "</style>\n",
       "<table border=\"1\" class=\"dataframe\">\n",
       "  <thead>\n",
       "    <tr style=\"text-align: right;\">\n",
       "      <th></th>\n",
       "      <th>false_pos</th>\n",
       "      <th>true_pos</th>\n",
       "      <th>false_neg</th>\n",
       "      <th>true_neg</th>\n",
       "      <th>pos</th>\n",
       "      <th>neg</th>\n",
       "      <th>n</th>\n",
       "      <th>thresholds</th>\n",
       "    </tr>\n",
       "  </thead>\n",
       "  <tbody>\n",
       "    <tr>\n",
       "      <th>0</th>\n",
       "      <td>0.0</td>\n",
       "      <td>0.0</td>\n",
       "      <td>631.0</td>\n",
       "      <td>1914.0</td>\n",
       "      <td>631</td>\n",
       "      <td>1914</td>\n",
       "      <td>2545</td>\n",
       "      <td>inf</td>\n",
       "    </tr>\n",
       "    <tr>\n",
       "      <th>1</th>\n",
       "      <td>0.0</td>\n",
       "      <td>1.0</td>\n",
       "      <td>630.0</td>\n",
       "      <td>1914.0</td>\n",
       "      <td>631</td>\n",
       "      <td>1914</td>\n",
       "      <td>2545</td>\n",
       "      <td>0.846839</td>\n",
       "    </tr>\n",
       "    <tr>\n",
       "      <th>2</th>\n",
       "      <td>0.0</td>\n",
       "      <td>2.0</td>\n",
       "      <td>629.0</td>\n",
       "      <td>1914.0</td>\n",
       "      <td>631</td>\n",
       "      <td>1914</td>\n",
       "      <td>2545</td>\n",
       "      <td>0.791593</td>\n",
       "    </tr>\n",
       "    <tr>\n",
       "      <th>3</th>\n",
       "      <td>1.0</td>\n",
       "      <td>2.0</td>\n",
       "      <td>629.0</td>\n",
       "      <td>1913.0</td>\n",
       "      <td>631</td>\n",
       "      <td>1914</td>\n",
       "      <td>2545</td>\n",
       "      <td>0.787354</td>\n",
       "    </tr>\n",
       "    <tr>\n",
       "      <th>4</th>\n",
       "      <td>1.0</td>\n",
       "      <td>4.0</td>\n",
       "      <td>627.0</td>\n",
       "      <td>1913.0</td>\n",
       "      <td>631</td>\n",
       "      <td>1914</td>\n",
       "      <td>2545</td>\n",
       "      <td>0.768038</td>\n",
       "    </tr>\n",
       "    <tr>\n",
       "      <th>...</th>\n",
       "      <td>...</td>\n",
       "      <td>...</td>\n",
       "      <td>...</td>\n",
       "      <td>...</td>\n",
       "      <td>...</td>\n",
       "      <td>...</td>\n",
       "      <td>...</td>\n",
       "      <td>...</td>\n",
       "    </tr>\n",
       "    <tr>\n",
       "      <th>859</th>\n",
       "      <td>1869.0</td>\n",
       "      <td>629.0</td>\n",
       "      <td>2.0</td>\n",
       "      <td>45.0</td>\n",
       "      <td>631</td>\n",
       "      <td>1914</td>\n",
       "      <td>2545</td>\n",
       "      <td>0.049286</td>\n",
       "    </tr>\n",
       "    <tr>\n",
       "      <th>860</th>\n",
       "      <td>1869.0</td>\n",
       "      <td>630.0</td>\n",
       "      <td>1.0</td>\n",
       "      <td>45.0</td>\n",
       "      <td>631</td>\n",
       "      <td>1914</td>\n",
       "      <td>2545</td>\n",
       "      <td>0.047240</td>\n",
       "    </tr>\n",
       "    <tr>\n",
       "      <th>861</th>\n",
       "      <td>1893.0</td>\n",
       "      <td>630.0</td>\n",
       "      <td>1.0</td>\n",
       "      <td>21.0</td>\n",
       "      <td>631</td>\n",
       "      <td>1914</td>\n",
       "      <td>2545</td>\n",
       "      <td>0.037246</td>\n",
       "    </tr>\n",
       "    <tr>\n",
       "      <th>862</th>\n",
       "      <td>1893.0</td>\n",
       "      <td>631.0</td>\n",
       "      <td>0.0</td>\n",
       "      <td>21.0</td>\n",
       "      <td>631</td>\n",
       "      <td>1914</td>\n",
       "      <td>2545</td>\n",
       "      <td>0.037228</td>\n",
       "    </tr>\n",
       "    <tr>\n",
       "      <th>863</th>\n",
       "      <td>1914.0</td>\n",
       "      <td>631.0</td>\n",
       "      <td>0.0</td>\n",
       "      <td>0.0</td>\n",
       "      <td>631</td>\n",
       "      <td>1914</td>\n",
       "      <td>2545</td>\n",
       "      <td>0.012922</td>\n",
       "    </tr>\n",
       "  </tbody>\n",
       "</table>\n",
       "<p>864 rows × 8 columns</p>\n",
       "</div>"
      ],
      "text/plain": [
       "     false_pos  true_pos  false_neg  true_neg  pos   neg     n  thresholds\n",
       "0          0.0       0.0      631.0    1914.0  631  1914  2545         inf\n",
       "1          0.0       1.0      630.0    1914.0  631  1914  2545    0.846839\n",
       "2          0.0       2.0      629.0    1914.0  631  1914  2545    0.791593\n",
       "3          1.0       2.0      629.0    1913.0  631  1914  2545    0.787354\n",
       "4          1.0       4.0      627.0    1913.0  631  1914  2545    0.768038\n",
       "..         ...       ...        ...       ...  ...   ...   ...         ...\n",
       "859     1869.0     629.0        2.0      45.0  631  1914  2545    0.049286\n",
       "860     1869.0     630.0        1.0      45.0  631  1914  2545    0.047240\n",
       "861     1893.0     630.0        1.0      21.0  631  1914  2545    0.037246\n",
       "862     1893.0     631.0        0.0      21.0  631  1914  2545    0.037228\n",
       "863     1914.0     631.0        0.0       0.0  631  1914  2545    0.012922\n",
       "\n",
       "[864 rows x 8 columns]"
      ]
     },
     "execution_count": 245,
     "metadata": {},
     "output_type": "execute_result"
    }
   ],
   "source": [
    "fold5_threshold_rf = best_threshold\n",
    "fold5_expected_loss_rf = curr_exp_loss\n",
    "\n",
    "all_coords_rf = pd.DataFrame({\n",
    "    'false_pos': false_pos_rate*sum(y_fold == 0),\n",
    "    'true_pos': true_pos_rate*sum(y_fold == 1),\n",
    "    'false_neg': sum(y_fold == 1) - true_pos_rate*sum(y_fold == 1),\n",
    "    'true_neg': sum(y_fold == 0) - false_pos_rate*sum(y_fold == 0),\n",
    "    'pos': sum(y_fold == 1),\n",
    "    'neg': sum(y_fold == 0),\n",
    "    'n': len(y_fold),\n",
    "    'thresholds': threshold\n",
    "})\n",
    "\n",
    "all_coords_rf"
   ]
  },
  {
   "cell_type": "code",
   "execution_count": null,
   "id": "537215d4-f1e9-471f-a45e-6a04df667dae",
   "metadata": {},
   "outputs": [],
   "source": []
  },
  {
   "cell_type": "code",
   "execution_count": 248,
   "id": "f1b869fb-546e-42ba-ac43-08bd1b457968",
   "metadata": {},
   "outputs": [],
   "source": [
    "expected_loss_cv['rf_p'] = np.mean(expected_loss)\n",
    "best_thresholds_cv['rf_p'] = np.mean(best_thresholds)"
   ]
  },
  {
   "cell_type": "code",
   "execution_count": 249,
   "id": "a97f4848-17c6-4b21-b55a-e7d153f45e72",
   "metadata": {},
   "outputs": [
    {
     "data": {
      "text/html": [
       "<div>\n",
       "<style scoped>\n",
       "    .dataframe tbody tr th:only-of-type {\n",
       "        vertical-align: middle;\n",
       "    }\n",
       "\n",
       "    .dataframe tbody tr th {\n",
       "        vertical-align: top;\n",
       "    }\n",
       "\n",
       "    .dataframe thead th {\n",
       "        text-align: right;\n",
       "    }\n",
       "</style>\n",
       "<table border=\"1\" class=\"dataframe\">\n",
       "  <thead>\n",
       "    <tr style=\"text-align: right;\">\n",
       "      <th></th>\n",
       "      <th>CV RMSE</th>\n",
       "      <th>CV AUC</th>\n",
       "      <th>Avg of optimal thresholds</th>\n",
       "      <th>Threshold for Fold5</th>\n",
       "      <th>Avg expected loss</th>\n",
       "      <th>Expected loss for Fold5</th>\n",
       "    </tr>\n",
       "  </thead>\n",
       "  <tbody>\n",
       "    <tr>\n",
       "      <th>0</th>\n",
       "      <td>0.415</td>\n",
       "      <td>0.701</td>\n",
       "      <td>0.092</td>\n",
       "      <td>0.1</td>\n",
       "      <td>0.709</td>\n",
       "      <td>0.713</td>\n",
       "    </tr>\n",
       "  </tbody>\n",
       "</table>\n",
       "</div>"
      ],
      "text/plain": [
       "   CV RMSE  CV AUC  Avg of optimal thresholds  Threshold for Fold5  \\\n",
       "0    0.415   0.701                      0.092                  0.1   \n",
       "\n",
       "   Avg expected loss  Expected loss for Fold5  \n",
       "0              0.709                    0.713  "
      ]
     },
     "execution_count": 249,
     "metadata": {},
     "output_type": "execute_result"
    }
   ],
   "source": [
    "rf_summary = pd.DataFrame(\n",
    "    {'CV RMSE': [round(CV_RMSE['rf_p'], 3)],\n",
    "     'CV AUC': [round(CV_AUC['rf_p'], 3)],\n",
    "     'Avg of optimal thresholds': [round(best_thresholds_cv['rf_p'], 3)],\n",
    "     'Threshold for Fold5': [round(best_threshold, 3)],\n",
    "     'Avg expected loss': [round(expected_loss_cv['rf_p'], 3)],\n",
    "     'Expected loss for Fold5': [round(curr_exp_loss, 3)]})\n",
    "\n",
    "rf_summary"
   ]
  },
  {
   "cell_type": "code",
   "execution_count": 251,
   "id": "0862e197-0bdd-4583-8ddf-807196730d79",
   "metadata": {},
   "outputs": [
    {
     "data": {
      "image/png": "[encoded data removed]",
      "text/plain": [
       "<Figure size 600x500 with 1 Axes>"
      ]
     },
     "metadata": {},
     "output_type": "display_data"
    }
   ],
   "source": [
    "create_loss_plot(all_coords_rf, fold5_threshold_rf, fold5_expected_loss_rf);"
   ]
  },
  {
   "cell_type": "code",
   "execution_count": 252,
   "id": "1f532245-ba0f-4698-bfdb-e76fab988e35",
   "metadata": {},
   "outputs": [
    {
     "data": {
      "image/png": "[encoded data removed]",
      "text/plain": [
       "<Figure size 600x600 with 1 Axes>"
      ]
     },
     "metadata": {},
     "output_type": "display_data"
    },
    {
     "data": {
      "text/plain": [
       "(<Figure size 600x600 with 1 Axes>,\n",
       " <Axes: xlabel='specificity', ylabel='sensitivity'>)"
      ]
     },
     "execution_count": 252,
     "metadata": {},
     "output_type": "execute_result"
    }
   ],
   "source": [
    "create_roc_plot_with_optimal(all_coords_rf, fold5_threshold_rf)"
   ]
  },
  {
   "cell_type": "code",
   "execution_count": 253,
   "id": "4f14e2af-3e1c-447f-b995-9907a183f78e",
   "metadata": {},
   "outputs": [
    {
     "data": {
      "text/plain": [
       "0.419"
      ]
     },
     "execution_count": 253,
     "metadata": {},
     "output_type": "execute_result"
    }
   ],
   "source": [
    "prob_forest_fit_best = prob_forest_fit.best_estimator_\n",
    "rf_predicted_probabilities_holdout = prob_forest_fit_best.predict_proba(rfvars_holdout)[:,1]\n",
    "rmse_rf = np.sqrt(mean_squared_error(y_holdout, rf_predicted_probabilities_holdout))\n",
    "round(rmse_rf, 3)"
   ]
  },
  {
   "cell_type": "code",
   "execution_count": 255,
   "id": "53ab131d-e921-495f-918d-e27c4408c544",
   "metadata": {},
   "outputs": [
    {
     "data": {
      "text/plain": [
       "0.702"
      ]
     },
     "execution_count": 255,
     "metadata": {},
     "output_type": "execute_result"
    }
   ],
   "source": [
    "auc_rf = roc_auc_score(y_holdout, rf_predicted_probabilities_holdout)\n",
    "round(auc_rf, 3)"
   ]
  },
  {
   "cell_type": "code",
   "execution_count": 266,
   "id": "92458dfc-a797-4522-b0b6-fa4661685f40",
   "metadata": {},
   "outputs": [
    {
     "data": {
      "text/plain": [
       "0.724"
      ]
     },
     "execution_count": 266,
     "metadata": {},
     "output_type": "execute_result"
    }
   ],
   "source": [
    "holdout_treshold = np.where(rf_predicted_probabilities_holdout < best_thresholds_cv['rf_p'], 0, 1)\n",
    "tn, fp, fn, tp = confusion_matrix(y_holdout, holdout_treshold, labels=[0,1]).ravel()\n",
    "expected_loss_holdout = (fp*FP + fn*FN)/len(y_holdout)\n",
    "round(expected_loss_holdout, 3)"
   ]
  },
  {
   "cell_type": "code",
   "execution_count": 267,
   "id": "57d6c0b1-a0d5-4225-8e9c-1272fdd3155e",
   "metadata": {},
   "outputs": [
    {
     "name": "stdout",
     "output_type": "stream",
     "text": [
      "2025-03-09 22:45:26.688605\n"
     ]
    }
   ],
   "source": [
    "import datetime\n",
    "print(datetime.datetime.now())"
   ]
  },
  {
   "cell_type": "code",
   "execution_count": 268,
   "id": "ad32fcde-5965-4c2a-b681-7fcab910578f",
   "metadata": {},
   "outputs": [
    {
     "data": {
      "text/plain": [
       "array([0, 0, 0, ..., 0, 0, 0], dtype=int64)"
      ]
     },
     "execution_count": 268,
     "metadata": {},
     "output_type": "execute_result"
    }
   ],
   "source": [
    "prob_forest_best_fold.predict(rfvars_holdout)"
   ]
  },
  {
   "cell_type": "code",
   "execution_count": 270,
   "id": "c5de7c99-ff73-4bd4-ad46-4bd2b03f9b4f",
   "metadata": {},
   "outputs": [
    {
     "data": {
      "text/plain": [
       "array([[0.7468676 , 0.2531324 ],\n",
       "       [0.51826753, 0.48173247],\n",
       "       [0.84599558, 0.15400442],\n",
       "       ...,\n",
       "       [0.83081265, 0.16918735],\n",
       "       [0.59358127, 0.40641873],\n",
       "       [0.64120076, 0.35879924]])"
      ]
     },
     "execution_count": 270,
     "metadata": {},
     "output_type": "execute_result"
    }
   ],
   "source": [
    "prob_forest_best_fold.predict_proba(rfvars_holdout)"
   ]
  },
  {
   "cell_type": "code",
   "execution_count": 271,
   "id": "8b636be5-6d10-4958-b8ac-249aa03e0456",
   "metadata": {},
   "outputs": [],
   "source": [
    "nvars['rf_p'] = len(rfvars.columns)"
   ]
  },
  {
   "cell_type": "code",
   "execution_count": 273,
   "id": "7ded3d41-5494-4c9b-9538-d0fa77c9e01c",
   "metadata": {},
   "outputs": [],
   "source": [
    "summary_results = pd.DataFrame({\"Model\": list(nvars.keys()),\n",
    "                              \"Number of predictors\": list(nvars.values()),\n",
    "                              \"CV RMSE\": list(CV_RMSE.values()),\n",
    "                              \"CV AUC\": list(CV_AUC.values()),\n",
    "                              \"CV threshold\": list(best_thresholds_cv.values()),\n",
    "                              \"CV expected Loss\": list(expected_loss_cv.values())\n",
    "                               })"
   ]
  },
  {
   "cell_type": "code",
   "execution_count": 274,
   "id": "7097f606-a4c2-4267-ac07-23946ae09586",
   "metadata": {},
   "outputs": [
    {
     "data": {
      "text/html": [
       "<style type=\"text/css\">\n",
       "</style>\n",
       "<table id=\"T_94dc7\">\n",
       "  <thead>\n",
       "    <tr>\n",
       "      <th class=\"blank level0\" >&nbsp;</th>\n",
       "      <th id=\"T_94dc7_level0_col0\" class=\"col_heading level0 col0\" >Model</th>\n",
       "      <th id=\"T_94dc7_level0_col1\" class=\"col_heading level0 col1\" >Number of predictors</th>\n",
       "      <th id=\"T_94dc7_level0_col2\" class=\"col_heading level0 col2\" >CV RMSE</th>\n",
       "      <th id=\"T_94dc7_level0_col3\" class=\"col_heading level0 col3\" >CV AUC</th>\n",
       "      <th id=\"T_94dc7_level0_col4\" class=\"col_heading level0 col4\" >CV threshold</th>\n",
       "      <th id=\"T_94dc7_level0_col5\" class=\"col_heading level0 col5\" >CV expected Loss</th>\n",
       "    </tr>\n",
       "  </thead>\n",
       "  <tbody>\n",
       "    <tr>\n",
       "      <th id=\"T_94dc7_level0_row0\" class=\"row_heading level0 row0\" >0</th>\n",
       "      <td id=\"T_94dc7_row0_col0\" class=\"data row0 col0\" >X1</td>\n",
       "      <td id=\"T_94dc7_row0_col1\" class=\"data row0 col1\" >11</td>\n",
       "      <td id=\"T_94dc7_row0_col2\" class=\"data row0 col2\" >0.4348</td>\n",
       "      <td id=\"T_94dc7_row0_col3\" class=\"data row0 col3\" >0.5853</td>\n",
       "      <td id=\"T_94dc7_row0_col4\" class=\"data row0 col4\" >0.1070</td>\n",
       "      <td id=\"T_94dc7_row0_col5\" class=\"data row0 col5\" >0.7317</td>\n",
       "    </tr>\n",
       "    <tr>\n",
       "      <th id=\"T_94dc7_level0_row1\" class=\"row_heading level0 row1\" >1</th>\n",
       "      <td id=\"T_94dc7_row1_col0\" class=\"data row1 col0\" >X2</td>\n",
       "      <td id=\"T_94dc7_row1_col1\" class=\"data row1 col1\" >18</td>\n",
       "      <td id=\"T_94dc7_row1_col2\" class=\"data row1 col2\" >0.4341</td>\n",
       "      <td id=\"T_94dc7_row1_col3\" class=\"data row1 col3\" >0.5893</td>\n",
       "      <td id=\"T_94dc7_row1_col4\" class=\"data row1 col4\" >0.0891</td>\n",
       "      <td id=\"T_94dc7_row1_col5\" class=\"data row1 col5\" >0.7351</td>\n",
       "    </tr>\n",
       "    <tr>\n",
       "      <th id=\"T_94dc7_level0_row2\" class=\"row_heading level0 row2\" >2</th>\n",
       "      <td id=\"T_94dc7_row2_col0\" class=\"data row2 col0\" >X3</td>\n",
       "      <td id=\"T_94dc7_row2_col1\" class=\"data row2 col1\" >44</td>\n",
       "      <td id=\"T_94dc7_row2_col2\" class=\"data row2 col2\" >0.4357</td>\n",
       "      <td id=\"T_94dc7_row2_col3\" class=\"data row2 col3\" >0.5790</td>\n",
       "      <td id=\"T_94dc7_row2_col4\" class=\"data row2 col4\" >0.0830</td>\n",
       "      <td id=\"T_94dc7_row2_col5\" class=\"data row2 col5\" >0.7381</td>\n",
       "    </tr>\n",
       "    <tr>\n",
       "      <th id=\"T_94dc7_level0_row3\" class=\"row_heading level0 row3\" >3</th>\n",
       "      <td id=\"T_94dc7_row3_col0\" class=\"data row3 col0\" >X4</td>\n",
       "      <td id=\"T_94dc7_row3_col1\" class=\"data row3 col1\" >87</td>\n",
       "      <td id=\"T_94dc7_row3_col2\" class=\"data row3 col2\" >0.4280</td>\n",
       "      <td id=\"T_94dc7_row3_col3\" class=\"data row3 col3\" >0.6371</td>\n",
       "      <td id=\"T_94dc7_row3_col4\" class=\"data row3 col4\" >0.0997</td>\n",
       "      <td id=\"T_94dc7_row3_col5\" class=\"data row3 col5\" >0.7322</td>\n",
       "    </tr>\n",
       "    <tr>\n",
       "      <th id=\"T_94dc7_level0_row4\" class=\"row_heading level0 row4\" >4</th>\n",
       "      <td id=\"T_94dc7_row4_col0\" class=\"data row4 col0\" >X5</td>\n",
       "      <td id=\"T_94dc7_row4_col1\" class=\"data row4 col1\" >179</td>\n",
       "      <td id=\"T_94dc7_row4_col2\" class=\"data row4 col2\" >0.4280</td>\n",
       "      <td id=\"T_94dc7_row4_col3\" class=\"data row4 col3\" >0.6338</td>\n",
       "      <td id=\"T_94dc7_row4_col4\" class=\"data row4 col4\" >0.0816</td>\n",
       "      <td id=\"T_94dc7_row4_col5\" class=\"data row4 col5\" >0.7319</td>\n",
       "    </tr>\n",
       "    <tr>\n",
       "      <th id=\"T_94dc7_level0_row5\" class=\"row_heading level0 row5\" >5</th>\n",
       "      <td id=\"T_94dc7_row5_col0\" class=\"data row5 col0\" >LASSO</td>\n",
       "      <td id=\"T_94dc7_row5_col1\" class=\"data row5 col1\" >94</td>\n",
       "      <td id=\"T_94dc7_row5_col2\" class=\"data row5 col2\" >0.4258</td>\n",
       "      <td id=\"T_94dc7_row5_col3\" class=\"data row5 col3\" >0.6488</td>\n",
       "      <td id=\"T_94dc7_row5_col4\" class=\"data row5 col4\" >0.0838</td>\n",
       "      <td id=\"T_94dc7_row5_col5\" class=\"data row5 col5\" >0.7208</td>\n",
       "    </tr>\n",
       "    <tr>\n",
       "      <th id=\"T_94dc7_level0_row6\" class=\"row_heading level0 row6\" >6</th>\n",
       "      <td id=\"T_94dc7_row6_col0\" class=\"data row6 col0\" >rf_p</td>\n",
       "      <td id=\"T_94dc7_row6_col1\" class=\"data row6 col1\" >44</td>\n",
       "      <td id=\"T_94dc7_row6_col2\" class=\"data row6 col2\" >0.4151</td>\n",
       "      <td id=\"T_94dc7_row6_col3\" class=\"data row6 col3\" >0.7007</td>\n",
       "      <td id=\"T_94dc7_row6_col4\" class=\"data row6 col4\" >0.0915</td>\n",
       "      <td id=\"T_94dc7_row6_col5\" class=\"data row6 col5\" >0.7087</td>\n",
       "    </tr>\n",
       "  </tbody>\n",
       "</table>\n"
      ],
      "text/plain": [
       "<pandas.io.formats.style.Styler at 0x238adcbc050>"
      ]
     },
     "execution_count": 274,
     "metadata": {},
     "output_type": "execute_result"
    }
   ],
   "source": [
    "summary_results.style.format(\n",
    "    {\n",
    "        'CV threshold': '{:.4f}',\n",
    "        'CV AUC': '{:.4f}',\n",
    "        'CV RMSE': '{:.4f}',\n",
    "        'CV expected Loss': '{:.4f}'\n",
    "    }\n",
    ")"
   ]
  }
 ],
 "metadata": {
  "kernelspec": {
   "display_name": "Python 3 (ipykernel)",
   "language": "python",
   "name": "python3"
  },
  "language_info": {
   "codemirror_mode": {
    "name": "ipython",
    "version": 3
   },
   "file_extension": ".py",
   "mimetype": "text/x-python",
   "name": "python",
   "nbconvert_exporter": "python",
   "pygments_lexer": "ipython3",
   "version": "3.12.4"
  }
 },
 "nbformat": 4,
 "nbformat_minor": 5
}
